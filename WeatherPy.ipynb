{
 "cells": [
  {
   "cell_type": "markdown",
   "metadata": {},
   "source": [
    "# WeatherPy\n",
    "----\n",
    "\n",
    "#### Note\n",
    "* Instructions have been included for each segment. You do not have to follow them exactly, but they are included to help you think through the steps."
   ]
  },
  {
   "cell_type": "code",
   "execution_count": 38,
   "metadata": {
    "scrolled": true
   },
   "outputs": [],
   "source": [
    "# Dependencies and Setup\n",
    "import matplotlib.pyplot as plt\n",
    "import pandas as pd\n",
    "import numpy as np\n",
    "import requests\n",
    "import time\n",
    "from scipy.stats import linregress\n",
    "from scipy import stats\n",
    "\n",
    "# Import API key\n",
    "from api_keys import weather_api_key\n",
    "\n",
    "# Incorporated citipy to determine city based on latitude and longitude\n",
    "from citipy import citipy\n",
    "\n",
    "# Output File (CSV)\n",
    "output_data_file = \"output_data/cities.csv\"\n",
    "\n",
    "# Range of latitudes and longitudes\n",
    "lat_range = (-90, 90)\n",
    "lng_range = (-180, 180)"
   ]
  },
  {
   "cell_type": "code",
   "execution_count": 5,
   "metadata": {},
   "outputs": [
    {
     "data": {
      "text/plain": [
       "'9da89ea3e04bcb9a1de66c77694a15e0'"
      ]
     },
     "execution_count": 5,
     "metadata": {},
     "output_type": "execute_result"
    }
   ],
   "source": [
    "# Check weather api key was imported correctly\n",
    "weather_api_key"
   ]
  },
  {
   "cell_type": "markdown",
   "metadata": {},
   "source": [
    "## Generate Cities List"
   ]
  },
  {
   "cell_type": "code",
   "execution_count": 2,
   "metadata": {},
   "outputs": [
    {
     "data": {
      "text/plain": [
       "622"
      ]
     },
     "execution_count": 2,
     "metadata": {},
     "output_type": "execute_result"
    }
   ],
   "source": [
    "# List for holding lat_lngs and cities\n",
    "lat_lngs = []\n",
    "cities = []\n",
    "\n",
    "# Create a set of random lat and lng combinations\n",
    "lats = np.random.uniform(low=-90.000, high=90.000, size=1500)\n",
    "lngs = np.random.uniform(low=-180.000, high=180.000, size=1500)\n",
    "lat_lngs = zip(lats, lngs)\n",
    "\n",
    "# Identify nearest city for each lat, lng combination\n",
    "for lat_lng in lat_lngs:\n",
    "    city = citipy.nearest_city(lat_lng[0], lat_lng[1]).city_name\n",
    "    \n",
    "    # If the city is unique, then add it to a our cities list\n",
    "    if city not in cities:\n",
    "        cities.append(city)\n",
    "\n",
    "# Print the city count to confirm sufficient count\n",
    "len(cities)"
   ]
  },
  {
   "cell_type": "markdown",
   "metadata": {},
   "source": [
    "### Perform API Calls\n",
    "* Perform a weather check on each city using a series of successive API calls.\n",
    "* Include a print log of each city as it'sbeing processed (with the city number and city name).\n"
   ]
  },
  {
   "cell_type": "code",
   "execution_count": 15,
   "metadata": {
    "scrolled": false
   },
   "outputs": [
    {
     "name": "stdout",
     "output_type": "stream",
     "text": [
      "Beginning Data Retrieval\n",
      "-----------------------------\n",
      "Processing Record 1 of Set 1 | ribeira grande\n",
      "Processing Record 2 of Set 1 | mataura\n",
      "Processing Record 3 of Set 1 | chokurdakh\n",
      "Processing Record 4 of Set 1 | stornoway\n",
      "Processing Record 5 of Set 1 | vaini\n",
      "Processing Record 6 of Set 1 | mao\n",
      "Processing Record 7 of Set 1 | talara\n",
      "Processing Record 8 of Set 1 | camacha\n",
      "Processing Record 9 of Set 1 | chippewa falls\n",
      "Processing Record 10 of Set 1 | punta arenas\n",
      "Processing Record 11 of Set 1 | talnakh\n",
      "Processing Record 12 of Set 1 | amderma\n",
      "City not found. Skipping...\n",
      "Processing Record 13 of Set 1 | faya\n",
      "Processing Record 14 of Set 1 | port elizabeth\n",
      "Processing Record 15 of Set 1 | ulladulla\n",
      "Processing Record 16 of Set 1 | rikitea\n",
      "Processing Record 17 of Set 1 | fairbanks\n",
      "Processing Record 18 of Set 1 | lompoc\n",
      "Processing Record 19 of Set 1 | peniche\n",
      "Processing Record 20 of Set 1 | mabaruma\n",
      "Processing Record 21 of Set 1 | saint george\n",
      "Processing Record 22 of Set 1 | mogok\n",
      "Processing Record 23 of Set 1 | hobart\n",
      "Processing Record 24 of Set 1 | pevek\n",
      "Processing Record 25 of Set 1 | grand gaube\n",
      "Processing Record 26 of Set 1 | atuona\n",
      "Processing Record 27 of Set 1 | tianpeng\n",
      "Processing Record 28 of Set 1 | lhokseumawe\n",
      "Processing Record 29 of Set 1 | bondoukou\n",
      "Processing Record 30 of Set 1 | mokhsogollokh\n",
      "Processing Record 31 of Set 1 | monteagudo\n",
      "Processing Record 32 of Set 1 | esperance\n",
      "Processing Record 33 of Set 1 | puro\n",
      "Processing Record 34 of Set 1 | jamestown\n",
      "Processing Record 35 of Set 1 | new norfolk\n",
      "Processing Record 36 of Set 1 | tuktoyaktuk\n",
      "Processing Record 37 of Set 1 | igarka\n",
      "Processing Record 38 of Set 1 | atambua\n",
      "Processing Record 39 of Set 1 | yenagoa\n",
      "Processing Record 40 of Set 1 | ponta do sol\n",
      "Processing Record 41 of Set 1 | the valley\n",
      "Processing Record 42 of Set 1 | bluff\n",
      "Processing Record 43 of Set 1 | busselton\n",
      "Processing Record 44 of Set 1 | qui nhon\n",
      "Processing Record 45 of Set 1 | yellowknife\n",
      "Processing Record 46 of Set 1 | carlyle\n",
      "Processing Record 47 of Set 1 | mount gambier\n",
      "Processing Record 48 of Set 1 | lakhdenpokhya\n",
      "Processing Record 49 of Set 1 | mackay\n",
      "Processing Record 1 of Set 2 | geraldton\n",
      "Processing Record 2 of Set 2 | katsuura\n",
      "Processing Record 3 of Set 2 | carnarvon\n",
      "Processing Record 4 of Set 2 | mar del plata\n",
      "Processing Record 5 of Set 2 | lewistown\n",
      "Processing Record 6 of Set 2 | kapaa\n",
      "Processing Record 7 of Set 2 | saskylakh\n",
      "Processing Record 8 of Set 2 | hamilton\n",
      "Processing Record 9 of Set 2 | bredasdorp\n",
      "Processing Record 10 of Set 2 | hami\n",
      "Processing Record 11 of Set 2 | paso de carrasco\n",
      "Processing Record 12 of Set 2 | ust-maya\n",
      "Processing Record 13 of Set 2 | hermanus\n",
      "Processing Record 14 of Set 2 | ushuaia\n",
      "Processing Record 15 of Set 2 | trairi\n",
      "Processing Record 16 of Set 2 | hithadhoo\n",
      "Processing Record 17 of Set 2 | attawapiskat\n",
      "City not found. Skipping...\n",
      "Processing Record 18 of Set 2 | kano\n",
      "Processing Record 19 of Set 2 | san giovanni in fiore\n",
      "Processing Record 20 of Set 2 | cape town\n",
      "Processing Record 21 of Set 2 | kruisfontein\n",
      "Processing Record 22 of Set 2 | rakoshyno\n",
      "Processing Record 23 of Set 2 | namatanai\n",
      "Processing Record 24 of Set 2 | avarua\n",
      "Processing Record 25 of Set 2 | karkaralinsk\n",
      "City not found. Skipping...\n",
      "Processing Record 26 of Set 2 | mys shmidta\n",
      "City not found. Skipping...\n",
      "Processing Record 27 of Set 2 | severo-kurilsk\n",
      "Processing Record 28 of Set 2 | poum\n",
      "Processing Record 29 of Set 2 | santiago del estero\n",
      "Processing Record 30 of Set 2 | kansk\n",
      "Processing Record 31 of Set 2 | butaritari\n",
      "Processing Record 32 of Set 2 | khatanga\n",
      "Processing Record 33 of Set 2 | baykit\n",
      "Processing Record 34 of Set 2 | avera\n",
      "Processing Record 35 of Set 2 | port hardy\n",
      "Processing Record 36 of Set 2 | jabonga\n",
      "Processing Record 37 of Set 2 | vardo\n",
      "Processing Record 38 of Set 2 | trofors\n",
      "Processing Record 39 of Set 2 | great falls\n",
      "Processing Record 40 of Set 2 | gallup\n",
      "Processing Record 41 of Set 2 | kodiak\n",
      "Processing Record 42 of Set 2 | goderich\n",
      "Processing Record 43 of Set 2 | longyearbyen\n",
      "Processing Record 44 of Set 2 | grand river south east\n",
      "City not found. Skipping...\n",
      "Processing Record 45 of Set 2 | bengkulu\n",
      "Processing Record 46 of Set 2 | kalispell\n",
      "Processing Record 47 of Set 2 | lolua\n",
      "City not found. Skipping...\n",
      "Processing Record 48 of Set 2 | lata\n",
      "Processing Record 49 of Set 2 | doka\n",
      "Processing Record 1 of Set 3 | meyungs\n",
      "City not found. Skipping...\n",
      "Processing Record 2 of Set 3 | mahibadhoo\n",
      "Processing Record 3 of Set 3 | san luis\n",
      "Processing Record 4 of Set 3 | chuy\n",
      "Processing Record 5 of Set 3 | barrow\n",
      "Processing Record 6 of Set 3 | sentyabrskiy\n",
      "City not found. Skipping...\n",
      "Processing Record 7 of Set 3 | belmonte\n",
      "Processing Record 8 of Set 3 | vanimo\n",
      "Processing Record 9 of Set 3 | hirara\n",
      "Processing Record 10 of Set 3 | albany\n",
      "Processing Record 11 of Set 3 | san jeronimo\n",
      "Processing Record 12 of Set 3 | la ronge\n",
      "Processing Record 13 of Set 3 | upernavik\n",
      "Processing Record 14 of Set 3 | te anau\n",
      "Processing Record 15 of Set 3 | cidreira\n",
      "Processing Record 16 of Set 3 | okoneshnikovo\n",
      "Processing Record 17 of Set 3 | marcona\n",
      "City not found. Skipping...\n",
      "Processing Record 18 of Set 3 | valley\n",
      "Processing Record 19 of Set 3 | kolobrzeg\n",
      "Processing Record 20 of Set 3 | vao\n",
      "Processing Record 21 of Set 3 | castro\n",
      "Processing Record 22 of Set 3 | mankono\n",
      "Processing Record 23 of Set 3 | sao filipe\n",
      "Processing Record 24 of Set 3 | belushya guba\n",
      "City not found. Skipping...\n",
      "Processing Record 25 of Set 3 | illoqqortoormiut\n",
      "City not found. Skipping...\n",
      "Processing Record 26 of Set 3 | lavrentiya\n",
      "Processing Record 27 of Set 3 | cherskiy\n",
      "Processing Record 28 of Set 3 | guira de melena\n",
      "Processing Record 29 of Set 3 | saleaula\n",
      "City not found. Skipping...\n",
      "Processing Record 30 of Set 3 | bethel\n",
      "Processing Record 31 of Set 3 | stabat\n",
      "Processing Record 32 of Set 3 | birjand\n",
      "Processing Record 33 of Set 3 | alta floresta\n",
      "Processing Record 34 of Set 3 | port alfred\n",
      "Processing Record 35 of Set 3 | hilo\n",
      "Processing Record 36 of Set 3 | udachnyy\n",
      "Processing Record 37 of Set 3 | bac lieu\n",
      "Processing Record 38 of Set 3 | ancud\n",
      "Processing Record 39 of Set 3 | nizhneyansk\n",
      "City not found. Skipping...\n",
      "Processing Record 40 of Set 3 | harper\n",
      "Processing Record 41 of Set 3 | neyshabur\n",
      "Processing Record 42 of Set 3 | dwarka\n",
      "Processing Record 43 of Set 3 | otavi\n",
      "Processing Record 44 of Set 3 | sinnamary\n",
      "Processing Record 45 of Set 3 | voh\n",
      "Processing Record 46 of Set 3 | savalou\n",
      "Processing Record 47 of Set 3 | puerto ayora\n",
      "Processing Record 48 of Set 3 | ambulu\n",
      "Processing Record 49 of Set 3 | kaitangata\n",
      "Processing Record 1 of Set 4 | seminole\n",
      "Processing Record 2 of Set 4 | arenzano\n",
      "Processing Record 3 of Set 4 | barentsburg\n",
      "City not found. Skipping...\n",
      "Processing Record 4 of Set 4 | santa maria\n",
      "Processing Record 5 of Set 4 | kuching\n",
      "Processing Record 6 of Set 4 | kargil\n",
      "Processing Record 7 of Set 4 | pokhara\n",
      "Processing Record 8 of Set 4 | leningradskiy\n",
      "Processing Record 9 of Set 4 | deputatskiy\n",
      "Processing Record 10 of Set 4 | gizo\n",
      "Processing Record 11 of Set 4 | kangaatsiaq\n",
      "Processing Record 12 of Set 4 | east london\n",
      "Processing Record 13 of Set 4 | montepuez\n",
      "Processing Record 14 of Set 4 | san patricio\n",
      "Processing Record 15 of Set 4 | tuatapere\n",
      "Processing Record 16 of Set 4 | iqaluit\n",
      "Processing Record 17 of Set 4 | scarborough\n",
      "Processing Record 18 of Set 4 | taolanaro\n",
      "City not found. Skipping...\n",
      "Processing Record 19 of Set 4 | hoquiam\n",
      "Processing Record 20 of Set 4 | nador\n",
      "Processing Record 21 of Set 4 | sakaiminato\n",
      "Processing Record 22 of Set 4 | hinckley\n",
      "Processing Record 23 of Set 4 | dorfen\n",
      "Processing Record 24 of Set 4 | sal rei\n",
      "Processing Record 25 of Set 4 | caravelas\n",
      "Processing Record 26 of Set 4 | kondopoga\n",
      "Processing Record 27 of Set 4 | springbok\n",
      "Processing Record 28 of Set 4 | sines\n",
      "Processing Record 29 of Set 4 | marienburg\n",
      "Processing Record 30 of Set 4 | qaanaaq\n",
      "Processing Record 31 of Set 4 | monte azul\n",
      "Processing Record 32 of Set 4 | kaset sombun\n",
      "Processing Record 33 of Set 4 | abalak\n",
      "Processing Record 34 of Set 4 | tyup\n",
      "Processing Record 35 of Set 4 | victoria\n",
      "Processing Record 36 of Set 4 | ambon\n",
      "Processing Record 37 of Set 4 | cayenne\n",
      "Processing Record 38 of Set 4 | mahon\n",
      "Processing Record 39 of Set 4 | tabat\n",
      "Processing Record 40 of Set 4 | gat\n",
      "Processing Record 41 of Set 4 | aswan\n"
     ]
    },
    {
     "name": "stdout",
     "output_type": "stream",
     "text": [
      "Processing Record 42 of Set 4 | bestobe\n",
      "Processing Record 43 of Set 4 | urengoy\n",
      "Processing Record 44 of Set 4 | chernyshevskiy\n",
      "Processing Record 45 of Set 4 | umm lajj\n",
      "Processing Record 46 of Set 4 | comodoro rivadavia\n",
      "Processing Record 47 of Set 4 | georgetown\n",
      "Processing Record 48 of Set 4 | omboue\n",
      "Processing Record 49 of Set 4 | port hedland\n",
      "Processing Record 1 of Set 5 | birobidzhan\n",
      "Processing Record 2 of Set 5 | merritt island\n",
      "Processing Record 3 of Set 5 | mwene-ditu\n",
      "Processing Record 4 of Set 5 | soe\n",
      "Processing Record 5 of Set 5 | san angelo\n",
      "Processing Record 6 of Set 5 | moroni\n",
      "Processing Record 7 of Set 5 | port macquarie\n",
      "Processing Record 8 of Set 5 | koslan\n",
      "Processing Record 9 of Set 5 | les cayes\n",
      "Processing Record 10 of Set 5 | cabo san lucas\n",
      "Processing Record 11 of Set 5 | dikson\n",
      "Processing Record 12 of Set 5 | ulcinj\n",
      "Processing Record 13 of Set 5 | ntchisi\n",
      "Processing Record 14 of Set 5 | mineiros\n",
      "Processing Record 15 of Set 5 | basudebpur\n",
      "Processing Record 16 of Set 5 | shache\n",
      "Processing Record 17 of Set 5 | tiksi\n",
      "Processing Record 18 of Set 5 | vrangel\n",
      "Processing Record 19 of Set 5 | lorengau\n",
      "Processing Record 20 of Set 5 | hastings\n",
      "Processing Record 21 of Set 5 | vostok\n",
      "Processing Record 22 of Set 5 | san francisco\n",
      "Processing Record 23 of Set 5 | souillac\n",
      "Processing Record 24 of Set 5 | arraial do cabo\n",
      "Processing Record 25 of Set 5 | tineo\n",
      "Processing Record 26 of Set 5 | humaita\n",
      "Processing Record 27 of Set 5 | clyde river\n",
      "Processing Record 28 of Set 5 | gravdal\n",
      "Processing Record 29 of Set 5 | kalmunai\n",
      "Processing Record 30 of Set 5 | waipawa\n",
      "Processing Record 31 of Set 5 | puerto escondido\n",
      "Processing Record 32 of Set 5 | hovd\n",
      "Processing Record 33 of Set 5 | labuhan\n",
      "Processing Record 34 of Set 5 | mehamn\n",
      "Processing Record 35 of Set 5 | port ellen\n",
      "City not found. Skipping...\n",
      "Processing Record 36 of Set 5 | naze\n",
      "Processing Record 37 of Set 5 | maunabo\n",
      "Processing Record 38 of Set 5 | sysert\n",
      "Processing Record 39 of Set 5 | salalah\n",
      "Processing Record 40 of Set 5 | tigil\n",
      "Processing Record 41 of Set 5 | nushki\n",
      "Processing Record 42 of Set 5 | kyshtovka\n",
      "Processing Record 43 of Set 5 | saint-philippe\n",
      "Processing Record 44 of Set 5 | keti bandar\n",
      "Processing Record 45 of Set 5 | norman wells\n",
      "Processing Record 46 of Set 5 | ust-nera\n",
      "Processing Record 47 of Set 5 | show low\n",
      "Processing Record 48 of Set 5 | wyndham\n",
      "Processing Record 49 of Set 5 | westport\n",
      "Processing Record 1 of Set 6 | kasama\n",
      "Processing Record 2 of Set 6 | monte carmelo\n",
      "Processing Record 3 of Set 6 | ampanihy\n",
      "Processing Record 4 of Set 6 | nuevo imperial\n",
      "Processing Record 5 of Set 6 | urumqi\n",
      "Processing Record 6 of Set 6 | dalvik\n",
      "Processing Record 7 of Set 6 | calama\n",
      "Processing Record 8 of Set 6 | buala\n",
      "Processing Record 9 of Set 6 | yunjinghong\n",
      "City not found. Skipping...\n",
      "Processing Record 10 of Set 6 | sorong\n",
      "Processing Record 11 of Set 6 | korla\n",
      "Processing Record 12 of Set 6 | galle\n",
      "Processing Record 13 of Set 6 | baker city\n",
      "Processing Record 14 of Set 6 | emba\n",
      "Processing Record 15 of Set 6 | richards bay\n",
      "Processing Record 16 of Set 6 | tidore\n",
      "City not found. Skipping...\n",
      "Processing Record 17 of Set 6 | olga\n",
      "Processing Record 18 of Set 6 | adrar\n",
      "Processing Record 19 of Set 6 | fruitvale\n",
      "Processing Record 20 of Set 6 | pouembout\n",
      "Processing Record 21 of Set 6 | hobyo\n",
      "Processing Record 22 of Set 6 | yulara\n",
      "Processing Record 23 of Set 6 | opuwo\n",
      "Processing Record 24 of Set 6 | sitka\n",
      "Processing Record 25 of Set 6 | faanui\n",
      "Processing Record 26 of Set 6 | coquimbo\n",
      "Processing Record 27 of Set 6 | thompson\n",
      "Processing Record 28 of Set 6 | la palma\n",
      "Processing Record 29 of Set 6 | kinanah\n",
      "City not found. Skipping...\n",
      "Processing Record 30 of Set 6 | yongan\n",
      "Processing Record 31 of Set 6 | taperoa\n",
      "Processing Record 32 of Set 6 | los llanos de aridane\n",
      "Processing Record 33 of Set 6 | zhangjiakou\n",
      "Processing Record 34 of Set 6 | nikolskoye\n",
      "Processing Record 35 of Set 6 | dobryanka\n",
      "Processing Record 36 of Set 6 | grand-lahou\n",
      "Processing Record 37 of Set 6 | la macarena\n",
      "Processing Record 38 of Set 6 | klyuchi\n",
      "Processing Record 39 of Set 6 | mouzouras\n",
      "Processing Record 40 of Set 6 | ilhabela\n",
      "Processing Record 41 of Set 6 | saldanha\n",
      "Processing Record 42 of Set 6 | berezna\n",
      "Processing Record 43 of Set 6 | samusu\n",
      "City not found. Skipping...\n",
      "Processing Record 44 of Set 6 | aberdeen\n",
      "Processing Record 45 of Set 6 | inzer\n",
      "Processing Record 46 of Set 6 | isangel\n",
      "Processing Record 47 of Set 6 | verkh-suetka\n",
      "Processing Record 48 of Set 6 | nanchong\n",
      "Processing Record 49 of Set 6 | paiho\n",
      "City not found. Skipping...\n",
      "Processing Record 1 of Set 7 | cooma\n",
      "Processing Record 2 of Set 7 | cam pha\n",
      "City not found. Skipping...\n",
      "Processing Record 3 of Set 7 | tumut\n",
      "Processing Record 4 of Set 7 | balkanabat\n",
      "Processing Record 5 of Set 7 | setermoen\n",
      "Processing Record 6 of Set 7 | sao felix do xingu\n",
      "Processing Record 7 of Set 7 | sartell\n",
      "Processing Record 8 of Set 7 | madimba\n",
      "Processing Record 9 of Set 7 | alofi\n",
      "Processing Record 10 of Set 7 | muros\n",
      "Processing Record 11 of Set 7 | russell\n",
      "Processing Record 12 of Set 7 | zhaotong\n",
      "Processing Record 13 of Set 7 | ye\n",
      "City not found. Skipping...\n",
      "Processing Record 14 of Set 7 | komsomolskiy\n",
      "Processing Record 15 of Set 7 | barawe\n",
      "City not found. Skipping...\n",
      "Processing Record 16 of Set 7 | wiarton\n",
      "Processing Record 17 of Set 7 | olafsvik\n",
      "Processing Record 18 of Set 7 | taltal\n",
      "Processing Record 19 of Set 7 | tezu\n",
      "Processing Record 20 of Set 7 | carutapera\n",
      "Processing Record 21 of Set 7 | kamenskoye\n",
      "City not found. Skipping...\n",
      "Processing Record 22 of Set 7 | kachiry\n",
      "Processing Record 23 of Set 7 | quarteira\n",
      "Processing Record 24 of Set 7 | great yarmouth\n",
      "Processing Record 25 of Set 7 | semibratovo\n",
      "Processing Record 26 of Set 7 | luderitz\n",
      "Processing Record 27 of Set 7 | barra do corda\n",
      "Processing Record 28 of Set 7 | northam\n",
      "Processing Record 29 of Set 7 | bambous virieux\n",
      "Processing Record 30 of Set 7 | provost\n",
      "Processing Record 31 of Set 7 | shimoda\n",
      "Processing Record 32 of Set 7 | saquisili\n",
      "Processing Record 33 of Set 7 | merke\n",
      "Processing Record 34 of Set 7 | nanortalik\n",
      "Processing Record 35 of Set 7 | turukhansk\n",
      "Processing Record 36 of Set 7 | andros town\n",
      "Processing Record 37 of Set 7 | ondorhaan\n",
      "City not found. Skipping...\n",
      "Processing Record 38 of Set 7 | krasnogvardeyets\n",
      "Processing Record 39 of Set 7 | kazachinskoye\n",
      "Processing Record 40 of Set 7 | mbandaka\n",
      "Processing Record 41 of Set 7 | varzea da palma\n",
      "Processing Record 42 of Set 7 | saint-pierre\n",
      "Processing Record 43 of Set 7 | alice springs\n",
      "Processing Record 44 of Set 7 | yining\n",
      "Processing Record 45 of Set 7 | touros\n",
      "Processing Record 46 of Set 7 | eureka\n",
      "Processing Record 47 of Set 7 | boa vista\n",
      "Processing Record 48 of Set 7 | chicama\n",
      "Processing Record 49 of Set 7 | kabinda\n",
      "Processing Record 1 of Set 8 | dawson creek\n",
      "Processing Record 2 of Set 8 | sao lourenco do sul\n",
      "Processing Record 3 of Set 8 | waddan\n",
      "Processing Record 4 of Set 8 | okhotsk\n",
      "Processing Record 5 of Set 8 | flin flon\n",
      "Processing Record 6 of Set 8 | iquique\n",
      "Processing Record 7 of Set 8 | palabuhanratu\n",
      "City not found. Skipping...\n",
      "Processing Record 8 of Set 8 | bathsheba\n",
      "Processing Record 9 of Set 8 | fort saint john\n",
      "City not found. Skipping...\n",
      "Processing Record 10 of Set 8 | fortuna\n",
      "Processing Record 11 of Set 8 | kondinskoye\n",
      "Processing Record 12 of Set 8 | meulaboh\n",
      "Processing Record 13 of Set 8 | haines junction\n",
      "Processing Record 14 of Set 8 | bellmead\n",
      "Processing Record 15 of Set 8 | presidencia roque saenz pena\n",
      "Processing Record 16 of Set 8 | gwadar\n",
      "Processing Record 17 of Set 8 | tawkar\n",
      "City not found. Skipping...\n",
      "Processing Record 18 of Set 8 | bridlington\n",
      "Processing Record 19 of Set 8 | kropotkin\n",
      "Processing Record 20 of Set 8 | kavieng\n",
      "Processing Record 21 of Set 8 | panama city\n",
      "Processing Record 22 of Set 8 | kyabe\n",
      "Processing Record 23 of Set 8 | rio gallegos\n",
      "Processing Record 24 of Set 8 | acarau\n",
      "Processing Record 25 of Set 8 | sioux lookout\n",
      "Processing Record 26 of Set 8 | shulan\n",
      "Processing Record 27 of Set 8 | toamasina\n",
      "Processing Record 28 of Set 8 | arica\n",
      "Processing Record 29 of Set 8 | jiddah\n",
      "City not found. Skipping...\n",
      "Processing Record 30 of Set 8 | iranshahr\n",
      "Processing Record 31 of Set 8 | cadiz\n",
      "Processing Record 32 of Set 8 | khormuj\n",
      "City not found. Skipping...\n",
      "Processing Record 33 of Set 8 | sobolevo\n"
     ]
    },
    {
     "name": "stdout",
     "output_type": "stream",
     "text": [
      "Processing Record 34 of Set 8 | warqla\n",
      "City not found. Skipping...\n",
      "Processing Record 35 of Set 8 | tasiilaq\n",
      "Processing Record 36 of Set 8 | christchurch\n",
      "Processing Record 37 of Set 8 | inirida\n",
      "Processing Record 38 of Set 8 | ladyzhyn\n",
      "Processing Record 39 of Set 8 | derzhavinsk\n",
      "Processing Record 40 of Set 8 | sola\n",
      "Processing Record 41 of Set 8 | lima\n",
      "Processing Record 42 of Set 8 | angoche\n",
      "Processing Record 43 of Set 8 | omsukchan\n",
      "Processing Record 44 of Set 8 | walvis bay\n",
      "Processing Record 45 of Set 8 | hasaki\n",
      "Processing Record 46 of Set 8 | mount isa\n",
      "Processing Record 47 of Set 8 | alberton\n",
      "Processing Record 48 of Set 8 | abha\n",
      "Processing Record 49 of Set 8 | anadyr\n",
      "Processing Record 1 of Set 9 | yanchukan\n",
      "City not found. Skipping...\n",
      "Processing Record 2 of Set 9 | ada\n",
      "Processing Record 3 of Set 9 | sekoma\n",
      "Processing Record 4 of Set 9 | kholm-zhirkovskiy\n",
      "Processing Record 5 of Set 9 | college\n",
      "Processing Record 6 of Set 9 | quzhou\n",
      "Processing Record 7 of Set 9 | leh\n",
      "Processing Record 8 of Set 9 | severodvinsk\n",
      "Processing Record 9 of Set 9 | ayan\n",
      "Processing Record 10 of Set 9 | ribeira brava\n",
      "Processing Record 11 of Set 9 | sept-iles\n",
      "Processing Record 12 of Set 9 | vila velha\n",
      "Processing Record 13 of Set 9 | lasa\n",
      "Processing Record 14 of Set 9 | san mateo del mar\n",
      "Processing Record 15 of Set 9 | kirando\n",
      "Processing Record 16 of Set 9 | bargal\n",
      "City not found. Skipping...\n",
      "Processing Record 17 of Set 9 | nioki\n",
      "Processing Record 18 of Set 9 | bam\n",
      "Processing Record 19 of Set 9 | vrontados\n",
      "Processing Record 20 of Set 9 | yeppoon\n",
      "Processing Record 21 of Set 9 | lishui\n",
      "Processing Record 22 of Set 9 | iracoubo\n",
      "Processing Record 23 of Set 9 | el tocuyo\n",
      "Processing Record 24 of Set 9 | cap malheureux\n",
      "Processing Record 25 of Set 9 | placido de castro\n",
      "Processing Record 26 of Set 9 | tasbuget\n",
      "City not found. Skipping...\n",
      "Processing Record 27 of Set 9 | seoul\n",
      "Processing Record 28 of Set 9 | cockburn town\n",
      "Processing Record 29 of Set 9 | paamiut\n",
      "Processing Record 30 of Set 9 | angoram\n",
      "Processing Record 31 of Set 9 | vaitupu\n",
      "City not found. Skipping...\n",
      "Processing Record 32 of Set 9 | saint-joseph\n",
      "Processing Record 33 of Set 9 | airai\n",
      "Processing Record 34 of Set 9 | herat\n",
      "Processing Record 35 of Set 9 | itarema\n",
      "Processing Record 36 of Set 9 | benghazi\n",
      "Processing Record 37 of Set 9 | salinopolis\n",
      "Processing Record 38 of Set 9 | shimanovsk\n",
      "Processing Record 39 of Set 9 | ukiah\n",
      "Processing Record 40 of Set 9 | yumen\n",
      "Processing Record 41 of Set 9 | oga\n",
      "Processing Record 42 of Set 9 | sataua\n",
      "City not found. Skipping...\n",
      "Processing Record 43 of Set 9 | port lincoln\n",
      "Processing Record 44 of Set 9 | narasannapeta\n",
      "Processing Record 45 of Set 9 | iskateley\n",
      "Processing Record 46 of Set 9 | rawah\n",
      "Processing Record 47 of Set 9 | stryn\n",
      "Processing Record 48 of Set 9 | port blair\n",
      "Processing Record 49 of Set 9 | masuguru\n",
      "Processing Record 1 of Set 10 | hong gai\n",
      "Processing Record 2 of Set 10 | kutum\n",
      "Processing Record 3 of Set 10 | muzhi\n",
      "Processing Record 4 of Set 10 | ilulissat\n",
      "Processing Record 5 of Set 10 | ngunguru\n",
      "Processing Record 6 of Set 10 | kushima\n",
      "Processing Record 7 of Set 10 | la asuncion\n",
      "Processing Record 8 of Set 10 | voyinka\n",
      "Processing Record 9 of Set 10 | buqayq\n",
      "City not found. Skipping...\n",
      "Processing Record 10 of Set 10 | preobrazheniye\n",
      "Processing Record 11 of Set 10 | oxelosund\n",
      "Processing Record 12 of Set 10 | montes altos\n",
      "Processing Record 13 of Set 10 | grindavik\n",
      "Processing Record 14 of Set 10 | vanavara\n",
      "Processing Record 15 of Set 10 | kaeo\n",
      "Processing Record 16 of Set 10 | compostela\n",
      "Processing Record 17 of Set 10 | mana\n",
      "Processing Record 18 of Set 10 | mahebourg\n",
      "Processing Record 19 of Set 10 | nampula\n",
      "Processing Record 20 of Set 10 | guane\n",
      "Processing Record 21 of Set 10 | ongandjera\n",
      "Processing Record 22 of Set 10 | ahipara\n",
      "Processing Record 23 of Set 10 | stepnogorsk\n",
      "Processing Record 24 of Set 10 | nehe\n",
      "Processing Record 25 of Set 10 | melfort\n",
      "Processing Record 26 of Set 10 | jalu\n",
      "Processing Record 27 of Set 10 | yarada\n",
      "Processing Record 28 of Set 10 | brattleboro\n",
      "Processing Record 29 of Set 10 | bereda\n",
      "Processing Record 30 of Set 10 | saint-louis\n",
      "Processing Record 31 of Set 10 | wanning\n",
      "Processing Record 32 of Set 10 | namibe\n",
      "Processing Record 33 of Set 10 | puri\n",
      "Processing Record 34 of Set 10 | hashtrud\n",
      "Processing Record 35 of Set 10 | ayorou\n",
      "Processing Record 36 of Set 10 | tourlaville\n",
      "Processing Record 37 of Set 10 | novikovo\n",
      "Processing Record 38 of Set 10 | mozarlandia\n",
      "Processing Record 39 of Set 10 | guerrero negro\n",
      "Processing Record 40 of Set 10 | kaduqli\n",
      "Processing Record 41 of Set 10 | egvekinot\n",
      "Processing Record 42 of Set 10 | sao joao da barra\n",
      "Processing Record 43 of Set 10 | vallenar\n",
      "Processing Record 44 of Set 10 | portland\n",
      "Processing Record 45 of Set 10 | yenotayevka\n",
      "Processing Record 46 of Set 10 | diamantino\n",
      "Processing Record 47 of Set 10 | kazalinsk\n",
      "City not found. Skipping...\n",
      "Processing Record 48 of Set 10 | boulder city\n",
      "Processing Record 49 of Set 10 | atar\n",
      "Processing Record 1 of Set 11 | chor\n",
      "Processing Record 2 of Set 11 | hornslet\n",
      "Processing Record 3 of Set 11 | itaituba\n",
      "Processing Record 4 of Set 11 | sosnovka\n",
      "Processing Record 5 of Set 11 | champerico\n",
      "Processing Record 6 of Set 11 | ballina\n",
      "Processing Record 7 of Set 11 | beatrice\n",
      "Processing Record 8 of Set 11 | wanaka\n",
      "Processing Record 9 of Set 11 | tessalit\n",
      "Processing Record 10 of Set 11 | acandi\n",
      "Processing Record 11 of Set 11 | ribas do rio pardo\n",
      "Processing Record 12 of Set 11 | kirakira\n",
      "Processing Record 13 of Set 11 | hendersonville\n",
      "Processing Record 14 of Set 11 | pachino\n",
      "Processing Record 15 of Set 11 | pyaozerskiy\n",
      "Processing Record 16 of Set 11 | riyadh\n",
      "Processing Record 17 of Set 11 | nouadhibou\n",
      "Processing Record 18 of Set 11 | devonport\n",
      "Processing Record 19 of Set 11 | qafsah\n",
      "City not found. Skipping...\n",
      "Processing Record 20 of Set 11 | saint-augustin\n",
      "Processing Record 21 of Set 11 | ajdabiya\n",
      "Processing Record 22 of Set 11 | kuche\n",
      "City not found. Skipping...\n",
      "Processing Record 23 of Set 11 | ishinomaki\n",
      "Processing Record 24 of Set 11 | ust-kuyga\n",
      "Processing Record 25 of Set 11 | sayyan\n",
      "Processing Record 26 of Set 11 | urdzhar\n",
      "City not found. Skipping...\n",
      "Processing Record 27 of Set 11 | debre tabor\n",
      "Processing Record 28 of Set 11 | celestun\n",
      "Processing Record 29 of Set 11 | tete\n",
      "Processing Record 30 of Set 11 | lysyanka\n",
      "Processing Record 31 of Set 11 | wuwei\n",
      "Processing Record 32 of Set 11 | bilma\n",
      "Processing Record 33 of Set 11 | praia\n",
      "Processing Record 34 of Set 11 | northampton\n",
      "Processing Record 35 of Set 11 | altamira\n",
      "Processing Record 36 of Set 11 | codrington\n",
      "Processing Record 37 of Set 11 | sandwick\n",
      "Processing Record 38 of Set 11 | bambanglipuro\n",
      "Processing Record 39 of Set 11 | kudymkar\n",
      "Processing Record 40 of Set 11 | batemans bay\n",
      "Processing Record 41 of Set 11 | palmer\n",
      "Processing Record 42 of Set 11 | kichmengskiy gorodok\n",
      "Processing Record 43 of Set 11 | hualmay\n",
      "Processing Record 44 of Set 11 | kerouane\n",
      "Processing Record 45 of Set 11 | coulihaut\n",
      "City not found. Skipping...\n",
      "Processing Record 46 of Set 11 | haicheng\n",
      "Processing Record 47 of Set 11 | sakakah\n",
      "Processing Record 48 of Set 11 | sorland\n",
      "Processing Record 49 of Set 11 | padang\n",
      "Processing Record 1 of Set 12 | kahului\n",
      "Processing Record 2 of Set 12 | ilula\n",
      "Processing Record 3 of Set 12 | quatre cocos\n",
      "Processing Record 4 of Set 12 | tanout\n",
      "Processing Record 5 of Set 12 | ormara\n",
      "Processing Record 6 of Set 12 | datong\n",
      "Processing Record 7 of Set 12 | san vicente\n",
      "Processing Record 8 of Set 12 | le pradet\n",
      "Processing Record 9 of Set 12 | uniao dos palmares\n",
      "Processing Record 10 of Set 12 | kidal\n",
      "Processing Record 11 of Set 12 | broken hill\n",
      "Processing Record 12 of Set 12 | grand centre\n",
      "City not found. Skipping...\n",
      "Processing Record 13 of Set 12 | tiznit\n",
      "Processing Record 14 of Set 12 | hadishahr\n",
      "Processing Record 15 of Set 12 | sumbawanga\n",
      "Processing Record 16 of Set 12 | flinders\n",
      "Processing Record 17 of Set 12 | plettenberg bay\n",
      "Processing Record 18 of Set 12 | alihe\n",
      "Processing Record 19 of Set 12 | gisborne\n",
      "Processing Record 20 of Set 12 | pyskowice\n",
      "Processing Record 21 of Set 12 | esmeralda\n",
      "Processing Record 22 of Set 12 | bandarbeyla\n",
      "Processing Record 23 of Set 12 | maryville\n",
      "Processing Record 24 of Set 12 | saint anthony\n",
      "Processing Record 25 of Set 12 | chuzhou\n"
     ]
    },
    {
     "name": "stdout",
     "output_type": "stream",
     "text": [
      "Processing Record 26 of Set 12 | tateyama\n",
      "Processing Record 27 of Set 12 | tapes\n",
      "Processing Record 28 of Set 12 | khasan\n",
      "Processing Record 29 of Set 12 | erenhot\n",
      "Processing Record 30 of Set 12 | fuerte olimpo\n",
      "Processing Record 31 of Set 12 | gornoye loo\n",
      "Processing Record 32 of Set 12 | deer lake\n",
      "Processing Record 33 of Set 12 | ponta delgada\n",
      "Processing Record 34 of Set 12 | grimshaw\n",
      "Processing Record 35 of Set 12 | luanda\n",
      "Processing Record 36 of Set 12 | ayr\n",
      "Processing Record 37 of Set 12 | abu kamal\n",
      "Processing Record 38 of Set 12 | entroncamento\n",
      "Processing Record 39 of Set 12 | dehloran\n",
      "Processing Record 40 of Set 12 | visakhapatnam\n",
      "Processing Record 41 of Set 12 | pochutla\n",
      "Processing Record 42 of Set 12 | kyra\n",
      "Processing Record 43 of Set 12 | tommot\n",
      "Processing Record 44 of Set 12 | marand\n",
      "Processing Record 45 of Set 12 | kalaikunda\n",
      "Processing Record 46 of Set 12 | byron bay\n",
      "Processing Record 47 of Set 12 | maulvi bazar\n",
      "City not found. Skipping...\n",
      "Processing Record 48 of Set 12 | campina verde\n",
      "Processing Record 49 of Set 12 | ola\n",
      "Processing Record 1 of Set 13 | blairmore\n",
      "Processing Record 2 of Set 13 | baghdad\n",
      "Processing Record 3 of Set 13 | cheyur\n",
      "City not found. Skipping...\n",
      "Processing Record 4 of Set 13 | igrim\n",
      "Processing Record 5 of Set 13 | aquin\n",
      "Processing Record 6 of Set 13 | breytovo\n",
      "Processing Record 7 of Set 13 | usinsk\n",
      "Processing Record 8 of Set 13 | maine-soroa\n",
      "Processing Record 9 of Set 13 | dingle\n",
      "Processing Record 10 of Set 13 | camana\n",
      "Processing Record 11 of Set 13 | tazovskiy\n",
      "Processing Record 12 of Set 13 | platteville\n",
      "Processing Record 13 of Set 13 | pringsewu\n",
      "Processing Record 14 of Set 13 | marsh harbour\n",
      "Processing Record 15 of Set 13 | chifeng\n",
      "Processing Record 16 of Set 13 | ambilobe\n",
      "Processing Record 17 of Set 13 | takoradi\n",
      "Processing Record 18 of Set 13 | upata\n",
      "Processing Record 19 of Set 13 | juye\n",
      "Processing Record 20 of Set 13 | dandong\n",
      "Processing Record 21 of Set 13 | pangody\n",
      "Processing Record 22 of Set 13 | skage\n",
      "City not found. Skipping...\n"
     ]
    },
    {
     "ename": "IndexError",
     "evalue": "list index out of range",
     "output_type": "error",
     "traceback": [
      "\u001b[1;31m---------------------------------------------------------------------------\u001b[0m",
      "\u001b[1;31mIndexError\u001b[0m                                Traceback (most recent call last)",
      "\u001b[1;32m<ipython-input-15-49600c8b26f6>\u001b[0m in \u001b[0;36m<module>\u001b[1;34m\u001b[0m\n\u001b[0;32m     21\u001b[0m \u001b[1;33m\u001b[0m\u001b[0m\n\u001b[0;32m     22\u001b[0m     \u001b[1;31m# Build query_url\u001b[0m\u001b[1;33m\u001b[0m\u001b[1;33m\u001b[0m\u001b[1;33m\u001b[0m\u001b[0m\n\u001b[1;32m---> 23\u001b[1;33m     \u001b[0mquery_url\u001b[0m \u001b[1;33m=\u001b[0m \u001b[0murl\u001b[0m \u001b[1;33m+\u001b[0m \u001b[0mcities\u001b[0m\u001b[1;33m[\u001b[0m\u001b[0mindex\u001b[0m\u001b[1;33m]\u001b[0m \u001b[1;33m+\u001b[0m \u001b[1;34m\"&appid=\"\u001b[0m \u001b[1;33m+\u001b[0m \u001b[0mweather_api_key\u001b[0m \u001b[1;33m+\u001b[0m \u001b[1;34m\"&units=imperial\"\u001b[0m\u001b[1;33m\u001b[0m\u001b[1;33m\u001b[0m\u001b[0m\n\u001b[0m\u001b[0;32m     24\u001b[0m \u001b[1;33m\u001b[0m\u001b[0m\n\u001b[0;32m     25\u001b[0m     \u001b[1;31m# Display processing message\u001b[0m\u001b[1;33m\u001b[0m\u001b[1;33m\u001b[0m\u001b[1;33m\u001b[0m\u001b[0m\n",
      "\u001b[1;31mIndexError\u001b[0m: list index out of range"
     ]
    }
   ],
   "source": [
    "print('Beginning Data Retrieval')\n",
    "print('-----------------------------')\n",
    "\n",
    "# Counters for sets and records\n",
    "set_num = 1\n",
    "record_num = 1\n",
    "\n",
    "# List to hold city data\n",
    "data = []\n",
    "\n",
    "url = 'http://api.openweathermap.org/data/2.5/weather?q='\n",
    "\n",
    "# Loop counter\n",
    "x = 0\n",
    "\n",
    "# Loop through all the cities in the list\n",
    "for x in range(0, len(cities)):\n",
    "    \n",
    "    # Build index value\n",
    "    index = (record_num - 1) + 50 * (set_num - 1)\n",
    "    \n",
    "    # Build query_url\n",
    "    query_url = url + cities[index] + \"&appid=\" + weather_api_key + \"&units=imperial\"\n",
    "    \n",
    "    # Display processing message\n",
    "    print('Processing Record ' + str(record_num) + ' of Set ' + str(set_num) + ' | ' + str(cities[index]))\n",
    "    \n",
    "    # Increment record_num\n",
    "    record_num = record_num + 1\n",
    "    \n",
    "    # Reset record_num when it reaches 50 and increment set_num\n",
    "    if (record_num == 50):\n",
    "        record_num = 1\n",
    "        set_num = set_num + 1\n",
    "        \n",
    "    # Obtain cloudiness, country, date, humidity, latitude, longitude, max temperature, and wind speed for each city\n",
    "    # If there is an error, display \"City not found\"\n",
    "    try:\n",
    "        weather_response = requests.get(query_url)\n",
    "        weather_json = weather_response.json()\n",
    "    \n",
    "        cloudiness = weather_json['clouds']['all']\n",
    "        country = weather_json['sys']['country']    \n",
    "        date = weather_json['dt']\n",
    "        humidity = weather_json['main']['humidity']    \n",
    "        latitude = weather_json['coord']['lat']\n",
    "        longitude = weather_json['coord']['lon']\n",
    "        max_temperature = weather_json['main']['temp_max']\n",
    "        wind_speed = weather_json['wind']['speed']\n",
    "    \n",
    "        # Append them to the data list\n",
    "        data.append({'City': cities[index],\n",
    "                     'Cloudiness': cloudiness,\n",
    "                     'Country': country,\n",
    "                     'Date': date,\n",
    "                     'Humidity': humidity,                 \n",
    "                     'Lat': latitude,\n",
    "                     'Lng': longitude,\n",
    "                     'Max Temp': max_temperature,\n",
    "                     'Wind Speed': wind_speed\n",
    "                    })\n",
    "    except:\n",
    "        print('City not found. Skipping...')\n",
    "\n",
    "# After the loop is over, print ending message\n",
    "print('-----------------------------')\n",
    "print('Data Retrieval Complete')\n",
    "print('-----------------------------')"
   ]
  },
  {
   "cell_type": "code",
   "execution_count": 17,
   "metadata": {},
   "outputs": [
    {
     "name": "stdout",
     "output_type": "stream",
     "text": [
      "{'City': 'ribeira grande', 'Cloudiness': 21, 'Country': 'PT', 'Date': 1597885901, 'Humidity': 68, 'Lat': 38.52, 'Lng': -28.7, 'Max Temp': 68.9, 'Wind Speed': 15.59}\n",
      "{'City': 'mataura', 'Cloudiness': 93, 'Country': 'NZ', 'Date': 1597885901, 'Humidity': 77, 'Lat': -46.19, 'Lng': 168.86, 'Max Temp': 55.99, 'Wind Speed': 1.99}\n",
      "{'City': 'chokurdakh', 'Cloudiness': 100, 'Country': 'RU', 'Date': 1597885790, 'Humidity': 93, 'Lat': 70.63, 'Lng': 147.92, 'Max Temp': 36.72, 'Wind Speed': 9.73}\n",
      "{'City': 'stornoway', 'Cloudiness': 100, 'Country': 'GB', 'Date': 1597885797, 'Humidity': 87, 'Lat': 58.21, 'Lng': -6.39, 'Max Temp': 59, 'Wind Speed': 14.99}\n",
      "{'City': 'vaini', 'Cloudiness': 90, 'Country': 'TO', 'Date': 1597885903, 'Humidity': 83, 'Lat': -21.2, 'Lng': -175.2, 'Max Temp': 77, 'Wind Speed': 10.29}\n",
      "{'City': 'mao', 'Cloudiness': 0, 'Country': 'ES', 'Date': 1597885904, 'Humidity': 88, 'Lat': 39.89, 'Lng': 4.27, 'Max Temp': 75.2, 'Wind Speed': 4.7}\n",
      "{'City': 'talara', 'Cloudiness': 79, 'Country': 'PE', 'Date': 1597885905, 'Humidity': 85, 'Lat': -4.58, 'Lng': -81.27, 'Max Temp': 61.63, 'Wind Speed': 18.66}\n",
      "{'City': 'camacha', 'Cloudiness': 40, 'Country': 'PT', 'Date': 1597885905, 'Humidity': 83, 'Lat': 33.08, 'Lng': -16.33, 'Max Temp': 73.4, 'Wind Speed': 4.7}\n",
      "{'City': 'chippewa falls', 'Cloudiness': 20, 'Country': 'US', 'Date': 1597885502, 'Humidity': 47, 'Lat': 44.94, 'Lng': -91.39, 'Max Temp': 78.8, 'Wind Speed': 13.87}\n",
      "{'City': 'punta arenas', 'Cloudiness': 53, 'Country': 'CL', 'Date': 1597885881, 'Humidity': 81, 'Lat': -53.15, 'Lng': -70.92, 'Max Temp': 44.6, 'Wind Speed': 24.16}\n"
     ]
    }
   ],
   "source": [
    "# Debug stuff\n",
    "\n",
    "# Check a couple records from data to see that it looks right\n",
    "\n",
    "x = 0\n",
    "\n",
    "for x in range(0, 10):\n",
    "    print(data[x])"
   ]
  },
  {
   "cell_type": "markdown",
   "metadata": {},
   "source": [
    "### Convert Raw Data to DataFrame\n",
    "* Export the city data into a .csv.\n",
    "* Display the DataFrame"
   ]
  },
  {
   "cell_type": "code",
   "execution_count": 18,
   "metadata": {},
   "outputs": [
    {
     "data": {
      "text/plain": [
       "City          563\n",
       "Cloudiness    563\n",
       "Country       563\n",
       "Date          563\n",
       "Humidity      563\n",
       "Lat           563\n",
       "Lng           563\n",
       "Max Temp      563\n",
       "Wind Speed    563\n",
       "dtype: int64"
      ]
     },
     "execution_count": 18,
     "metadata": {},
     "output_type": "execute_result"
    }
   ],
   "source": [
    "df = pd.DataFrame(data)\n",
    "\n",
    "df.count()"
   ]
  },
  {
   "cell_type": "code",
   "execution_count": 19,
   "metadata": {
    "scrolled": true
   },
   "outputs": [
    {
     "data": {
      "text/html": [
       "<div>\n",
       "<style scoped>\n",
       "    .dataframe tbody tr th:only-of-type {\n",
       "        vertical-align: middle;\n",
       "    }\n",
       "\n",
       "    .dataframe tbody tr th {\n",
       "        vertical-align: top;\n",
       "    }\n",
       "\n",
       "    .dataframe thead th {\n",
       "        text-align: right;\n",
       "    }\n",
       "</style>\n",
       "<table border=\"1\" class=\"dataframe\">\n",
       "  <thead>\n",
       "    <tr style=\"text-align: right;\">\n",
       "      <th></th>\n",
       "      <th>City</th>\n",
       "      <th>Cloudiness</th>\n",
       "      <th>Country</th>\n",
       "      <th>Date</th>\n",
       "      <th>Humidity</th>\n",
       "      <th>Lat</th>\n",
       "      <th>Lng</th>\n",
       "      <th>Max Temp</th>\n",
       "      <th>Wind Speed</th>\n",
       "    </tr>\n",
       "  </thead>\n",
       "  <tbody>\n",
       "    <tr>\n",
       "      <th>0</th>\n",
       "      <td>ribeira grande</td>\n",
       "      <td>21</td>\n",
       "      <td>PT</td>\n",
       "      <td>1597885901</td>\n",
       "      <td>68</td>\n",
       "      <td>38.52</td>\n",
       "      <td>-28.70</td>\n",
       "      <td>68.90</td>\n",
       "      <td>15.59</td>\n",
       "    </tr>\n",
       "    <tr>\n",
       "      <th>1</th>\n",
       "      <td>mataura</td>\n",
       "      <td>93</td>\n",
       "      <td>NZ</td>\n",
       "      <td>1597885901</td>\n",
       "      <td>77</td>\n",
       "      <td>-46.19</td>\n",
       "      <td>168.86</td>\n",
       "      <td>55.99</td>\n",
       "      <td>1.99</td>\n",
       "    </tr>\n",
       "    <tr>\n",
       "      <th>2</th>\n",
       "      <td>chokurdakh</td>\n",
       "      <td>100</td>\n",
       "      <td>RU</td>\n",
       "      <td>1597885790</td>\n",
       "      <td>93</td>\n",
       "      <td>70.63</td>\n",
       "      <td>147.92</td>\n",
       "      <td>36.72</td>\n",
       "      <td>9.73</td>\n",
       "    </tr>\n",
       "    <tr>\n",
       "      <th>3</th>\n",
       "      <td>stornoway</td>\n",
       "      <td>100</td>\n",
       "      <td>GB</td>\n",
       "      <td>1597885797</td>\n",
       "      <td>87</td>\n",
       "      <td>58.21</td>\n",
       "      <td>-6.39</td>\n",
       "      <td>59.00</td>\n",
       "      <td>14.99</td>\n",
       "    </tr>\n",
       "    <tr>\n",
       "      <th>4</th>\n",
       "      <td>vaini</td>\n",
       "      <td>90</td>\n",
       "      <td>TO</td>\n",
       "      <td>1597885903</td>\n",
       "      <td>83</td>\n",
       "      <td>-21.20</td>\n",
       "      <td>-175.20</td>\n",
       "      <td>77.00</td>\n",
       "      <td>10.29</td>\n",
       "    </tr>\n",
       "  </tbody>\n",
       "</table>\n",
       "</div>"
      ],
      "text/plain": [
       "             City  Cloudiness Country        Date  Humidity    Lat     Lng  \\\n",
       "0  ribeira grande          21      PT  1597885901        68  38.52  -28.70   \n",
       "1         mataura          93      NZ  1597885901        77 -46.19  168.86   \n",
       "2      chokurdakh         100      RU  1597885790        93  70.63  147.92   \n",
       "3       stornoway         100      GB  1597885797        87  58.21   -6.39   \n",
       "4           vaini          90      TO  1597885903        83 -21.20 -175.20   \n",
       "\n",
       "   Max Temp  Wind Speed  \n",
       "0     68.90       15.59  \n",
       "1     55.99        1.99  \n",
       "2     36.72        9.73  \n",
       "3     59.00       14.99  \n",
       "4     77.00       10.29  "
      ]
     },
     "execution_count": 19,
     "metadata": {},
     "output_type": "execute_result"
    }
   ],
   "source": [
    "df.head()"
   ]
  },
  {
   "cell_type": "code",
   "execution_count": 29,
   "metadata": {},
   "outputs": [],
   "source": [
    "# Save CSV of all retrieved data\n",
    "df.to_csv (r'city_data.csv', index = False, header = True)"
   ]
  },
  {
   "cell_type": "markdown",
   "metadata": {},
   "source": [
    "### Plotting the Data\n",
    "* Use proper labeling of the plots using plot titles (including date of analysis) and axes labels.\n",
    "* Save the plotted figures as .pngs."
   ]
  },
  {
   "cell_type": "markdown",
   "metadata": {},
   "source": [
    "#### Latitude vs. Temperature Plot"
   ]
  },
  {
   "cell_type": "code",
   "execution_count": 30,
   "metadata": {
    "scrolled": false
   },
   "outputs": [
    {
     "data": {
      "image/png": "[encoded data removed]",
      "text/plain": [
       "<Figure size 432x288 with 1 Axes>"
      ]
     },
     "metadata": {
      "needs_background": "light"
     },
     "output_type": "display_data"
    }
   ],
   "source": [
    "x_values = df['Lat']\n",
    "y_values = df['Max Temp']\n",
    "\n",
    "plt.scatter(x_values, y_values, marker = 'o')\n",
    "\n",
    "plt.title('City Latitude vs. Max Temperature')\n",
    "plt.xlabel('Latitude')\n",
    "plt.ylabel('Max Temperature (F)')\n",
    "plt.grid(True)\n",
    "\n",
    "plt.tight_layout()\n",
    "\n",
    "plt.savefig('plot_1_latitude_vs_max_temperature.png')\n",
    "\n",
    "plt.show()"
   ]
  },
  {
   "cell_type": "markdown",
   "metadata": {},
   "source": [
    "This plot shows that there is a kind of rainbow shape when latitude is compared to max temperature. This makes sense as values in the middle are closer to the equator where it is generally warmer. Alternatively, the further away from the equator, the lower the max temperature."
   ]
  },
  {
   "cell_type": "markdown",
   "metadata": {},
   "source": [
    "#### Latitude vs. Humidity Plot"
   ]
  },
  {
   "cell_type": "code",
   "execution_count": 31,
   "metadata": {},
   "outputs": [
    {
     "data": {
      "image/png": "[encoded data removed]",
      "text/plain": [
       "<Figure size 432x288 with 1 Axes>"
      ]
     },
     "metadata": {
      "needs_background": "light"
     },
     "output_type": "display_data"
    }
   ],
   "source": [
    "x_values = df['Lat']\n",
    "y_values = df['Humidity']\n",
    "\n",
    "plt.scatter(x_values, y_values, marker = 'o')\n",
    "\n",
    "plt.title('City Latitude vs. Humidity')\n",
    "plt.xlabel('Latitude')\n",
    "plt.ylabel('Humidity (%)')\n",
    "plt.grid(True)\n",
    "\n",
    "plt.tight_layout()\n",
    "\n",
    "plt.savefig('plot_2_latitude_vs_humidity.png')\n",
    "\n",
    "plt.show()"
   ]
  },
  {
   "cell_type": "markdown",
   "metadata": {},
   "source": [
    "This plot shows that latitudes close to the equator (around 0) genearlly all have high humidity. While there are also cities with high humidities at other latitudes, there is a lot more variance in humidity levels. It appears that cities at more extreme latitudes also tend to have high humidity."
   ]
  },
  {
   "cell_type": "markdown",
   "metadata": {},
   "source": [
    "#### Latitude vs. Cloudiness Plot"
   ]
  },
  {
   "cell_type": "code",
   "execution_count": 32,
   "metadata": {},
   "outputs": [
    {
     "data": {
      "image/png": "[encoded data removed]",
      "text/plain": [
       "<Figure size 432x288 with 1 Axes>"
      ]
     },
     "metadata": {
      "needs_background": "light"
     },
     "output_type": "display_data"
    }
   ],
   "source": [
    "x_values = df['Lat']\n",
    "y_values = df['Cloudiness']\n",
    "\n",
    "plt.scatter(x_values, y_values, marker = 'o')\n",
    "\n",
    "plt.title('City Latitude vs. Cloudiness')\n",
    "plt.xlabel('Latitude')\n",
    "plt.ylabel('Cloudiness (%)')\n",
    "plt.grid(True)\n",
    "\n",
    "plt.tight_layout()\n",
    "\n",
    "plt.savefig('plot_3_latitude_vs_cloudiness.png')\n",
    "\n",
    "plt.show() "
   ]
  },
  {
   "cell_type": "markdown",
   "metadata": {},
   "source": [
    "There does not appear to be any discernible pattern for this plot. In other words, latitude and cloudiness do not appear to correlate."
   ]
  },
  {
   "cell_type": "markdown",
   "metadata": {},
   "source": [
    "#### Latitude vs. Wind Speed Plot"
   ]
  },
  {
   "cell_type": "code",
   "execution_count": 33,
   "metadata": {
    "scrolled": true
   },
   "outputs": [
    {
     "data": {
      "image/png": "[encoded data removed]",
      "text/plain": [
       "<Figure size 432x288 with 1 Axes>"
      ]
     },
     "metadata": {
      "needs_background": "light"
     },
     "output_type": "display_data"
    }
   ],
   "source": [
    "x_values = df['Lat']\n",
    "y_values = df['Wind Speed']\n",
    "\n",
    "plt.scatter(x_values, y_values, marker = 'o')\n",
    "\n",
    "plt.title('City Latitude vs. Wind Speed')\n",
    "plt.xlabel('Latitude')\n",
    "plt.ylabel('Wind Speed (mph)')\n",
    "plt.grid(True)\n",
    "\n",
    "plt.tight_layout()\n",
    "\n",
    "plt.savefig('plot_4_latitude_vs_wind_speed.png')\n",
    "\n",
    "plt.show() "
   ]
  },
  {
   "cell_type": "markdown",
   "metadata": {},
   "source": [
    "This plot looks sort of like a straight line, as most points are near the 'bottom' of it. It shows that wind speed is usually low at most latitudes."
   ]
  },
  {
   "cell_type": "markdown",
   "metadata": {},
   "source": [
    "## Linear Regression"
   ]
  },
  {
   "cell_type": "code",
   "execution_count": 108,
   "metadata": {},
   "outputs": [],
   "source": [
    "# OPTIONAL: Create a function to create Linear Regression plots\n"
   ]
  },
  {
   "cell_type": "code",
   "execution_count": 34,
   "metadata": {},
   "outputs": [],
   "source": [
    "# Create Northern and Southern Hemisphere DataFrames\n",
    "northern_df = df.loc[df['Lat'] >= 0]\n",
    "southern_df = df.loc[df['Lat'] < 0]"
   ]
  },
  {
   "cell_type": "code",
   "execution_count": 36,
   "metadata": {},
   "outputs": [
    {
     "data": {
      "text/html": [
       "<div>\n",
       "<style scoped>\n",
       "    .dataframe tbody tr th:only-of-type {\n",
       "        vertical-align: middle;\n",
       "    }\n",
       "\n",
       "    .dataframe tbody tr th {\n",
       "        vertical-align: top;\n",
       "    }\n",
       "\n",
       "    .dataframe thead th {\n",
       "        text-align: right;\n",
       "    }\n",
       "</style>\n",
       "<table border=\"1\" class=\"dataframe\">\n",
       "  <thead>\n",
       "    <tr style=\"text-align: right;\">\n",
       "      <th></th>\n",
       "      <th>City</th>\n",
       "      <th>Cloudiness</th>\n",
       "      <th>Country</th>\n",
       "      <th>Date</th>\n",
       "      <th>Humidity</th>\n",
       "      <th>Lat</th>\n",
       "      <th>Lng</th>\n",
       "      <th>Max Temp</th>\n",
       "      <th>Wind Speed</th>\n",
       "    </tr>\n",
       "  </thead>\n",
       "  <tbody>\n",
       "    <tr>\n",
       "      <th>0</th>\n",
       "      <td>ribeira grande</td>\n",
       "      <td>21</td>\n",
       "      <td>PT</td>\n",
       "      <td>1597885901</td>\n",
       "      <td>68</td>\n",
       "      <td>38.52</td>\n",
       "      <td>-28.70</td>\n",
       "      <td>68.90</td>\n",
       "      <td>15.59</td>\n",
       "    </tr>\n",
       "    <tr>\n",
       "      <th>2</th>\n",
       "      <td>chokurdakh</td>\n",
       "      <td>100</td>\n",
       "      <td>RU</td>\n",
       "      <td>1597885790</td>\n",
       "      <td>93</td>\n",
       "      <td>70.63</td>\n",
       "      <td>147.92</td>\n",
       "      <td>36.72</td>\n",
       "      <td>9.73</td>\n",
       "    </tr>\n",
       "    <tr>\n",
       "      <th>3</th>\n",
       "      <td>stornoway</td>\n",
       "      <td>100</td>\n",
       "      <td>GB</td>\n",
       "      <td>1597885797</td>\n",
       "      <td>87</td>\n",
       "      <td>58.21</td>\n",
       "      <td>-6.39</td>\n",
       "      <td>59.00</td>\n",
       "      <td>14.99</td>\n",
       "    </tr>\n",
       "    <tr>\n",
       "      <th>5</th>\n",
       "      <td>mao</td>\n",
       "      <td>0</td>\n",
       "      <td>ES</td>\n",
       "      <td>1597885904</td>\n",
       "      <td>88</td>\n",
       "      <td>39.89</td>\n",
       "      <td>4.27</td>\n",
       "      <td>75.20</td>\n",
       "      <td>4.70</td>\n",
       "    </tr>\n",
       "    <tr>\n",
       "      <th>7</th>\n",
       "      <td>camacha</td>\n",
       "      <td>40</td>\n",
       "      <td>PT</td>\n",
       "      <td>1597885905</td>\n",
       "      <td>83</td>\n",
       "      <td>33.08</td>\n",
       "      <td>-16.33</td>\n",
       "      <td>73.40</td>\n",
       "      <td>4.70</td>\n",
       "    </tr>\n",
       "  </tbody>\n",
       "</table>\n",
       "</div>"
      ],
      "text/plain": [
       "             City  Cloudiness Country        Date  Humidity    Lat     Lng  \\\n",
       "0  ribeira grande          21      PT  1597885901        68  38.52  -28.70   \n",
       "2      chokurdakh         100      RU  1597885790        93  70.63  147.92   \n",
       "3       stornoway         100      GB  1597885797        87  58.21   -6.39   \n",
       "5             mao           0      ES  1597885904        88  39.89    4.27   \n",
       "7         camacha          40      PT  1597885905        83  33.08  -16.33   \n",
       "\n",
       "   Max Temp  Wind Speed  \n",
       "0     68.90       15.59  \n",
       "2     36.72        9.73  \n",
       "3     59.00       14.99  \n",
       "5     75.20        4.70  \n",
       "7     73.40        4.70  "
      ]
     },
     "execution_count": 36,
     "metadata": {},
     "output_type": "execute_result"
    }
   ],
   "source": [
    "# Check summary of each new df\n",
    "northern_df.head()\n",
    "southern_df.head()"
   ]
  },
  {
   "cell_type": "markdown",
   "metadata": {},
   "source": [
    "####  Northern Hemisphere - Max Temp vs. Latitude Linear Regression"
   ]
  },
  {
   "cell_type": "code",
   "execution_count": 43,
   "metadata": {
    "scrolled": true
   },
   "outputs": [
    {
     "name": "stdout",
     "output_type": "stream",
     "text": [
      "The r-squared is: 0.5309397250561958\n"
     ]
    },
    {
     "data": {
      "image/png": "[encoded data removed]",
      "text/plain": [
       "<Figure size 432x288 with 1 Axes>"
      ]
     },
     "metadata": {
      "needs_background": "light"
     },
     "output_type": "display_data"
    }
   ],
   "source": [
    "x_values = northern_df['Lat']\n",
    "y_values = northern_df['Max Temp']\n",
    "\n",
    "# Linear regression stuff\n",
    "(slope, intercept, rvalue, pvalue, stderr) = stats.linregress(x_values, y_values)\n",
    "regress_values = x_values * slope + intercept\n",
    "line_eq = \"y = \" + str(round(slope,2)) + \"x +\" + str(round(intercept,2))\n",
    "\n",
    "# Scatter plot\n",
    "plt.scatter(x_values, y_values, marker = 'o')\n",
    "plt.plot(x_values, regress_values, 'r-')\n",
    "\n",
    "plt.xlabel('Latitude')\n",
    "plt.ylabel('Max Temp')\n",
    "plt.annotate(line_eq, (10, 40), fontsize = 15, color = 'red')\n",
    "\n",
    "# Print r square value\n",
    "print(f\"The r-squared is: {rvalue**2}\")\n",
    "\n",
    "plt.tight_layout()\n",
    "\n",
    "plt.savefig('plot_5_northern_latitude_vs_max_temp.png')\n",
    "\n",
    "plt.show()"
   ]
  },
  {
   "cell_type": "markdown",
   "metadata": {},
   "source": [
    "This plot shows a downward trend in max temperature as latitude increases. In other words, cities further from the equator tend to have lower max temperatures. The r-squared value of 0.53 indicates that the model fits the data just over half the time, thus predicting max temperature from latitude is only slightly better than a coin flip."
   ]
  },
  {
   "cell_type": "markdown",
   "metadata": {},
   "source": [
    "####  Southern Hemisphere - Max Temp vs. Latitude Linear Regression"
   ]
  },
  {
   "cell_type": "code",
   "execution_count": 45,
   "metadata": {
    "scrolled": true
   },
   "outputs": [
    {
     "name": "stdout",
     "output_type": "stream",
     "text": [
      "The r-squared is: 0.529052436369527\n"
     ]
    },
    {
     "data": {
      "image/png": "[encoded data removed]",
      "text/plain": [
       "<Figure size 432x288 with 1 Axes>"
      ]
     },
     "metadata": {
      "needs_background": "light"
     },
     "output_type": "display_data"
    }
   ],
   "source": [
    "x_values = southern_df['Lat']\n",
    "y_values = southern_df['Max Temp']\n",
    "\n",
    "# Linear regression stuff\n",
    "(slope, intercept, rvalue, pvalue, stderr) = stats.linregress(x_values, y_values)\n",
    "regress_values = x_values * slope + intercept\n",
    "line_eq = \"y = \" + str(round(slope,2)) + \"x +\" + str(round(intercept,2))\n",
    "\n",
    "# Scatter plot\n",
    "plt.scatter(x_values, y_values, marker = 'o')\n",
    "plt.plot(x_values, regress_values, 'r-')\n",
    "\n",
    "plt.xlabel('Latitude')\n",
    "plt.ylabel('Max Temp')\n",
    "plt.annotate(line_eq, (-50, 80), fontsize = 15, color = 'red')\n",
    "\n",
    "# Print r square value\n",
    "print(f\"The r-squared is: {rvalue**2}\")\n",
    "\n",
    "plt.tight_layout()\n",
    "\n",
    "plt.savefig('plot_6_southern_latitude_vs_max_temp.png')\n",
    "\n",
    "plt.show()"
   ]
  },
  {
   "cell_type": "markdown",
   "metadata": {},
   "source": [
    "This plot shows an increasing trend in max temperature as latitude approaches 0. The r-squared value of 0.529 indicates that the model fits the data by about 53%, so latitude is not a particularly strong predictor for max temperature. It's worth noting that r-squared was about the same for both northern and southern hemisphere data."
   ]
  },
  {
   "cell_type": "markdown",
   "metadata": {},
   "source": [
    "####  Northern Hemisphere - Humidity (%) vs. Latitude Linear Regression"
   ]
  },
  {
   "cell_type": "code",
   "execution_count": 46,
   "metadata": {
    "scrolled": true
   },
   "outputs": [
    {
     "name": "stdout",
     "output_type": "stream",
     "text": [
      "The r-squared is: 6.334386576306299e-05\n"
     ]
    },
    {
     "data": {
      "image/png": "[encoded data removed]",
      "text/plain": [
       "<Figure size 432x288 with 1 Axes>"
      ]
     },
     "metadata": {
      "needs_background": "light"
     },
     "output_type": "display_data"
    }
   ],
   "source": [
    "x_values = northern_df['Lat']\n",
    "y_values = northern_df['Humidity']\n",
    "\n",
    "# Linear regression stuff\n",
    "(slope, intercept, rvalue, pvalue, stderr) = stats.linregress(x_values, y_values)\n",
    "regress_values = x_values * slope + intercept\n",
    "line_eq = \"y = \" + str(round(slope,2)) + \"x +\" + str(round(intercept,2))\n",
    "\n",
    "# Scatter plot\n",
    "plt.scatter(x_values, y_values, marker = 'o')\n",
    "plt.plot(x_values, regress_values, 'r-')\n",
    "\n",
    "plt.xlabel('Latitude')\n",
    "plt.ylabel('Humidity')\n",
    "plt.annotate(line_eq, (40, 20), fontsize = 15, color = 'red')\n",
    "\n",
    "# Print r square value\n",
    "print(f\"The r-squared is: {rvalue**2}\")\n",
    "\n",
    "plt.tight_layout()\n",
    "\n",
    "plt.savefig('plot_7_northern_latitude_vs_humidity.png')\n",
    "\n",
    "plt.show()"
   ]
  },
  {
   "cell_type": "markdown",
   "metadata": {},
   "source": [
    "The linear regression model is nearly a straight line which indicates there is no positive nor negative correlation between latitude and humidity in the northern hemisphere. Furthermore, the r-squared value is incredibly small (less than 1%), so latitude basically cannot predict humidity at all."
   ]
  },
  {
   "cell_type": "markdown",
   "metadata": {},
   "source": [
    "####  Southern Hemisphere - Humidity (%) vs. Latitude Linear Regression"
   ]
  },
  {
   "cell_type": "code",
   "execution_count": 51,
   "metadata": {
    "scrolled": true
   },
   "outputs": [
    {
     "name": "stdout",
     "output_type": "stream",
     "text": [
      "The r-squared is: 0.001373804244346099\n"
     ]
    },
    {
     "data": {
      "image/png": "[encoded data removed]",
      "text/plain": [
       "<Figure size 432x288 with 1 Axes>"
      ]
     },
     "metadata": {
      "needs_background": "light"
     },
     "output_type": "display_data"
    }
   ],
   "source": [
    "x_values = southern_df['Lat']\n",
    "y_values = southern_df['Humidity']\n",
    "\n",
    "# Linear regression stuff\n",
    "(slope, intercept, rvalue, pvalue, stderr) = stats.linregress(x_values, y_values)\n",
    "regress_values = x_values * slope + intercept\n",
    "line_eq = \"y = \" + str(round(slope,2)) + \"x +\" + str(round(intercept,2))\n",
    "\n",
    "# Scatter plot\n",
    "plt.scatter(x_values, y_values, marker = 'o')\n",
    "plt.plot(x_values, regress_values, 'r-')\n",
    "\n",
    "plt.xlabel('Latitude')\n",
    "plt.ylabel('Humidity')\n",
    "plt.annotate(line_eq, (-50, 30), fontsize = 15, color = 'red')\n",
    "\n",
    "# Print r square value\n",
    "print(f\"The r-squared is: {rvalue**2}\")\n",
    "\n",
    "plt.tight_layout()\n",
    "\n",
    "plt.savefig('plot_8_southern_latitude_vs_humidity.png')\n",
    "\n",
    "plt.show()"
   ]
  },
  {
   "cell_type": "markdown",
   "metadata": {},
   "source": [
    "The plot for the southern hemisphere is much like the northern hemisphere; the linear regression model is almost a straight line which indicates no positive nor negative correlation between latitude and humidity levels. Again, the r-squared value is very tiny, so the model is a poor predictor for humidity based on latitude."
   ]
  },
  {
   "cell_type": "markdown",
   "metadata": {},
   "source": [
    "####  Northern Hemisphere - Cloudiness (%) vs. Latitude Linear Regression"
   ]
  },
  {
   "cell_type": "code",
   "execution_count": 53,
   "metadata": {
    "scrolled": true
   },
   "outputs": [
    {
     "name": "stdout",
     "output_type": "stream",
     "text": [
      "The r-squared is: 1.3350343155603835e-07\n"
     ]
    },
    {
     "data": {
      "image/png": "[encoded data removed]",
      "text/plain": [
       "<Figure size 432x288 with 1 Axes>"
      ]
     },
     "metadata": {
      "needs_background": "light"
     },
     "output_type": "display_data"
    }
   ],
   "source": [
    "x_values = northern_df['Lat']\n",
    "y_values = northern_df['Cloudiness']\n",
    "\n",
    "# Linear regression stuff\n",
    "(slope, intercept, rvalue, pvalue, stderr) = stats.linregress(x_values, y_values)\n",
    "regress_values = x_values * slope + intercept\n",
    "line_eq = \"y = \" + str(round(slope,2)) + \"x +\" + str(round(intercept,2))\n",
    "\n",
    "# Scatter plot\n",
    "plt.scatter(x_values, y_values, marker = 'o')\n",
    "plt.plot(x_values, regress_values, 'r-')\n",
    "\n",
    "plt.xlabel('Latitude')\n",
    "plt.ylabel('Cloudiness')\n",
    "plt.annotate(line_eq, (40, 18), fontsize = 15, color = 'red')\n",
    "\n",
    "# Print r square value\n",
    "print(f\"The r-squared is: {rvalue**2}\")\n",
    "\n",
    "plt.tight_layout()\n",
    "\n",
    "plt.savefig('plot_9_northern_latitude_vs_cloudiness.png')\n",
    "\n",
    "plt.show()"
   ]
  },
  {
   "cell_type": "markdown",
   "metadata": {},
   "source": [
    "The linear regression model is a straight line which indicates no positive nor negative trend between latitude and cloudiness. The miniscule r-squared value indicates that latitude is a poor predictor for cloudiness."
   ]
  },
  {
   "cell_type": "markdown",
   "metadata": {},
   "source": [
    "####  Southern Hemisphere - Cloudiness (%) vs. Latitude Linear Regression"
   ]
  },
  {
   "cell_type": "code",
   "execution_count": 54,
   "metadata": {
    "scrolled": true
   },
   "outputs": [
    {
     "name": "stdout",
     "output_type": "stream",
     "text": [
      "The r-squared is: 2.5466866175064067e-05\n"
     ]
    },
    {
     "data": {
      "image/png": "[encoded data removed]",
      "text/plain": [
       "<Figure size 432x288 with 1 Axes>"
      ]
     },
     "metadata": {
      "needs_background": "light"
     },
     "output_type": "display_data"
    }
   ],
   "source": [
    "x_values = southern_df['Lat']\n",
    "y_values = southern_df['Cloudiness']\n",
    "\n",
    "# Linear regression stuff\n",
    "(slope, intercept, rvalue, pvalue, stderr) = stats.linregress(x_values, y_values)\n",
    "regress_values = x_values * slope + intercept\n",
    "line_eq = \"y = \" + str(round(slope,2)) + \"x +\" + str(round(intercept,2))\n",
    "\n",
    "# Scatter plot\n",
    "plt.scatter(x_values, y_values, marker = 'o')\n",
    "plt.plot(x_values, regress_values, 'r-')\n",
    "\n",
    "plt.xlabel('Latitude')\n",
    "plt.ylabel('Cloudiness')\n",
    "plt.annotate(line_eq, (-30, 30), fontsize = 15, color = 'red')\n",
    "\n",
    "# Print r square value\n",
    "print(f\"The r-squared is: {rvalue**2}\")\n",
    "\n",
    "plt.tight_layout()\n",
    "\n",
    "plt.savefig('plot_10_southern_latitude_vs_cloudiness.png')\n",
    "\n",
    "plt.show()"
   ]
  },
  {
   "cell_type": "markdown",
   "metadata": {},
   "source": [
    "Similar to the northern hemisphere plot, there appears to be no trend between latitude and cloudiness based on the linear regression model. The extremely small r-squared value indicates that latitude is a poor predictor of cloudiness."
   ]
  },
  {
   "cell_type": "markdown",
   "metadata": {},
   "source": [
    "####  Northern Hemisphere - Wind Speed (mph) vs. Latitude Linear Regression"
   ]
  },
  {
   "cell_type": "code",
   "execution_count": 56,
   "metadata": {
    "scrolled": true
   },
   "outputs": [
    {
     "name": "stdout",
     "output_type": "stream",
     "text": [
      "The r-squared is: 0.0038580833821873473\n"
     ]
    },
    {
     "data": {
      "image/png": "[encoded data removed]",
      "text/plain": [
       "<Figure size 432x288 with 1 Axes>"
      ]
     },
     "metadata": {
      "needs_background": "light"
     },
     "output_type": "display_data"
    }
   ],
   "source": [
    "x_values = northern_df['Lat']\n",
    "y_values = northern_df['Wind Speed']\n",
    "\n",
    "# Linear regression stuff\n",
    "(slope, intercept, rvalue, pvalue, stderr) = stats.linregress(x_values, y_values)\n",
    "regress_values = x_values * slope + intercept\n",
    "line_eq = \"y = \" + str(round(slope,2)) + \"x +\" + str(round(intercept,2))\n",
    "\n",
    "# Scatter plot\n",
    "plt.scatter(x_values, y_values, marker = 'o')\n",
    "plt.plot(x_values, regress_values, 'r-')\n",
    "\n",
    "plt.xlabel('Latitude')\n",
    "plt.ylabel('Wind Speed')\n",
    "plt.annotate(line_eq, (40, 20), fontsize = 15, color = 'red')\n",
    "\n",
    "# Print r square value\n",
    "print(f\"The r-squared is: {rvalue**2}\")\n",
    "\n",
    "plt.tight_layout()\n",
    "\n",
    "plt.savefig('plot_11_northern_latitude_vs_wind_speed.png')\n",
    "\n",
    "plt.show()"
   ]
  },
  {
   "cell_type": "markdown",
   "metadata": {},
   "source": [
    "The linear regression model is almost a straight line. This indicates no trend between latitude and wind speed. The tiny r-squared value suggests that latitude is a poor predictor of wind speed."
   ]
  },
  {
   "cell_type": "markdown",
   "metadata": {},
   "source": [
    "####  Southern Hemisphere - Wind Speed (mph) vs. Latitude Linear Regression"
   ]
  },
  {
   "cell_type": "code",
   "execution_count": 57,
   "metadata": {},
   "outputs": [
    {
     "name": "stdout",
     "output_type": "stream",
     "text": [
      "The r-squared is: 0.1167428767974711\n"
     ]
    },
    {
     "data": {
      "image/png": "[encoded data removed]",
      "text/plain": [
       "<Figure size 432x288 with 1 Axes>"
      ]
     },
     "metadata": {
      "needs_background": "light"
     },
     "output_type": "display_data"
    }
   ],
   "source": [
    "x_values = southern_df['Lat']\n",
    "y_values = southern_df['Wind Speed']\n",
    "\n",
    "# Linear regression stuff\n",
    "(slope, intercept, rvalue, pvalue, stderr) = stats.linregress(x_values, y_values)\n",
    "regress_values = x_values * slope + intercept\n",
    "line_eq = \"y = \" + str(round(slope,2)) + \"x +\" + str(round(intercept,2))\n",
    "\n",
    "# Scatter plot\n",
    "plt.scatter(x_values, y_values, marker = 'o')\n",
    "plt.plot(x_values, regress_values, 'r-')\n",
    "\n",
    "plt.xlabel('Latitude')\n",
    "plt.ylabel('Wind Speed')\n",
    "plt.annotate(line_eq, (-30, 20), fontsize = 15, color = 'red')\n",
    "\n",
    "# Print r square value\n",
    "print(f\"The r-squared is: {rvalue**2}\")\n",
    "\n",
    "plt.tight_layout()\n",
    "\n",
    "plt.savefig('plot_12_southern_latitude_vs_wind_speed.png')\n",
    "\n",
    "plt.show()"
   ]
  },
  {
   "cell_type": "markdown",
   "metadata": {},
   "source": [
    "For this plot the linear regression model shows a downward trend between latitude and wind speed. However, the small r-squared value indicates that the model is not a strong predictor, thus latitude is a poor predictor of wind speed in the southern hemisphere. However, it is slightly better when compared to the northern hemisphere."
   ]
  }
 ],
 "metadata": {
  "anaconda-cloud": {},
  "kernel_info": {
   "name": "python3"
  },
  "kernelspec": {
   "display_name": "PythonData",
   "language": "python",
   "name": "pythondata"
  },
  "language_info": {
   "codemirror_mode": {
    "name": "ipython",
    "version": 3
   },
   "file_extension": ".py",
   "mimetype": "text/x-python",
   "name": "python",
   "nbconvert_exporter": "python",
   "pygments_lexer": "ipython3",
   "version": "3.8.1"
  },
  "latex_envs": {
   "LaTeX_envs_menu_present": true,
   "autoclose": false,
   "autocomplete": true,
   "bibliofile": "biblio.bib",
   "cite_by": "apalike",
   "current_citInitial": 1,
   "eqLabelWithNumbers": true,
   "eqNumInitial": 1,
   "hotkeys": {
    "equation": "Ctrl-E",
    "itemize": "Ctrl-I"
   },
   "labels_anchors": false,
   "latex_user_defs": false,
   "report_style_numbering": false,
   "user_envs_cfg": false
  },
  "nteract": {
   "version": "0.12.3"
  }
 },
 "nbformat": 4,
 "nbformat_minor": 2
}
