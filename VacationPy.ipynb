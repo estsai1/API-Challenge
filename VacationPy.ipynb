{
 "cells": [
  {
   "cell_type": "markdown",
   "metadata": {},
   "source": [
    "# VacationPy\n",
    "----\n",
    "\n",
    "#### Note\n",
    "* Instructions have been included for each segment. You do not have to follow them exactly, but they are included to help you think through the steps."
   ]
  },
  {
   "cell_type": "code",
   "execution_count": 1,
   "metadata": {},
   "outputs": [],
   "source": [
    "# Dependencies and Setup\n",
    "import matplotlib.pyplot as plt\n",
    "import pandas as pd\n",
    "import numpy as np\n",
    "import requests\n",
    "import gmaps\n",
    "import os\n",
    "\n",
    "# Import API key\n",
    "from api_keys import g_key"
   ]
  },
  {
   "cell_type": "code",
   "execution_count": 3,
   "metadata": {},
   "outputs": [
    {
     "name": "stdout",
     "output_type": "stream",
     "text": [
      "\n"
     ]
    }
   ],
   "source": [
    "# Check if g_key imported properly\n",
    "print()"
   ]
  },
  {
   "cell_type": "markdown",
   "metadata": {},
   "source": [
    "### Store Part I results into DataFrame\n",
    "* Load the csv exported in Part I to a DataFrame"
   ]
  },
  {
   "cell_type": "code",
   "execution_count": 4,
   "metadata": {},
   "outputs": [
    {
     "data": {
      "text/html": [
       "<div>\n",
       "<style scoped>\n",
       "    .dataframe tbody tr th:only-of-type {\n",
       "        vertical-align: middle;\n",
       "    }\n",
       "\n",
       "    .dataframe tbody tr th {\n",
       "        vertical-align: top;\n",
       "    }\n",
       "\n",
       "    .dataframe thead th {\n",
       "        text-align: right;\n",
       "    }\n",
       "</style>\n",
       "<table border=\"1\" class=\"dataframe\">\n",
       "  <thead>\n",
       "    <tr style=\"text-align: right;\">\n",
       "      <th></th>\n",
       "      <th>City</th>\n",
       "      <th>Cloudiness</th>\n",
       "      <th>Country</th>\n",
       "      <th>Date</th>\n",
       "      <th>Humidity</th>\n",
       "      <th>Lat</th>\n",
       "      <th>Lng</th>\n",
       "      <th>Max Temp</th>\n",
       "      <th>Wind Speed</th>\n",
       "    </tr>\n",
       "  </thead>\n",
       "  <tbody>\n",
       "    <tr>\n",
       "      <th>0</th>\n",
       "      <td>ribeira grande</td>\n",
       "      <td>21</td>\n",
       "      <td>PT</td>\n",
       "      <td>1597885901</td>\n",
       "      <td>68</td>\n",
       "      <td>38.52</td>\n",
       "      <td>-28.70</td>\n",
       "      <td>68.90</td>\n",
       "      <td>15.59</td>\n",
       "    </tr>\n",
       "    <tr>\n",
       "      <th>1</th>\n",
       "      <td>mataura</td>\n",
       "      <td>93</td>\n",
       "      <td>NZ</td>\n",
       "      <td>1597885901</td>\n",
       "      <td>77</td>\n",
       "      <td>-46.19</td>\n",
       "      <td>168.86</td>\n",
       "      <td>55.99</td>\n",
       "      <td>1.99</td>\n",
       "    </tr>\n",
       "    <tr>\n",
       "      <th>2</th>\n",
       "      <td>chokurdakh</td>\n",
       "      <td>100</td>\n",
       "      <td>RU</td>\n",
       "      <td>1597885790</td>\n",
       "      <td>93</td>\n",
       "      <td>70.63</td>\n",
       "      <td>147.92</td>\n",
       "      <td>36.72</td>\n",
       "      <td>9.73</td>\n",
       "    </tr>\n",
       "    <tr>\n",
       "      <th>3</th>\n",
       "      <td>stornoway</td>\n",
       "      <td>100</td>\n",
       "      <td>GB</td>\n",
       "      <td>1597885797</td>\n",
       "      <td>87</td>\n",
       "      <td>58.21</td>\n",
       "      <td>-6.39</td>\n",
       "      <td>59.00</td>\n",
       "      <td>14.99</td>\n",
       "    </tr>\n",
       "    <tr>\n",
       "      <th>4</th>\n",
       "      <td>vaini</td>\n",
       "      <td>90</td>\n",
       "      <td>TO</td>\n",
       "      <td>1597885903</td>\n",
       "      <td>83</td>\n",
       "      <td>-21.20</td>\n",
       "      <td>-175.20</td>\n",
       "      <td>77.00</td>\n",
       "      <td>10.29</td>\n",
       "    </tr>\n",
       "  </tbody>\n",
       "</table>\n",
       "</div>"
      ],
      "text/plain": [
       "             City  Cloudiness Country        Date  Humidity    Lat     Lng  \\\n",
       "0  ribeira grande          21      PT  1597885901        68  38.52  -28.70   \n",
       "1         mataura          93      NZ  1597885901        77 -46.19  168.86   \n",
       "2      chokurdakh         100      RU  1597885790        93  70.63  147.92   \n",
       "3       stornoway         100      GB  1597885797        87  58.21   -6.39   \n",
       "4           vaini          90      TO  1597885903        83 -21.20 -175.20   \n",
       "\n",
       "   Max Temp  Wind Speed  \n",
       "0     68.90       15.59  \n",
       "1     55.99        1.99  \n",
       "2     36.72        9.73  \n",
       "3     59.00       14.99  \n",
       "4     77.00       10.29  "
      ]
     },
     "execution_count": 4,
     "metadata": {},
     "output_type": "execute_result"
    }
   ],
   "source": [
    "file = 'city_data.csv'\n",
    "\n",
    "df = pd.read_csv(file)\n",
    "\n",
    "df.head()"
   ]
  },
  {
   "cell_type": "markdown",
   "metadata": {},
   "source": [
    "### Humidity Heatmap\n",
    "* Configure gmaps.\n",
    "* Use the Lat and Lng as locations and Humidity as the weight.\n",
    "* Add Heatmap layer to map."
   ]
  },
  {
   "cell_type": "code",
   "execution_count": 5,
   "metadata": {},
   "outputs": [],
   "source": [
    "# Configure gmaps\n",
    "gmaps.configure(api_key = g_key)"
   ]
  },
  {
   "cell_type": "code",
   "execution_count": 10,
   "metadata": {},
   "outputs": [
    {
     "data": {
      "application/vnd.jupyter.widget-view+json": {
       "model_id": "1f97346aa6aa47dfb9aba097fc6ca8d6",
       "version_major": 2,
       "version_minor": 0
      },
      "text/plain": [
       "Figure(layout=FigureLayout(height='420px'))"
      ]
     },
     "metadata": {},
     "output_type": "display_data"
    }
   ],
   "source": [
    "locations = df[['Lat', 'Lng']].astype(float)\n",
    "humidity = df['Humidity']\n",
    "\n",
    "# Create poverty heatmap\n",
    "fig = gmaps.figure()\n",
    "\n",
    "heat_layer = gmaps.heatmap_layer(locations, weights = humidity, dissipating = False, max_intensity = 100, point_radius = 3)\n",
    "\n",
    "fig.add_layer(heat_layer)\n",
    "\n",
    "fig"
   ]
  },
  {
   "cell_type": "markdown",
   "metadata": {},
   "source": [
    "### Create new DataFrame fitting weather criteria\n",
    "* Narrow down the cities to fit weather conditions.\n",
    "* Drop any rows will null values."
   ]
  },
  {
   "cell_type": "code",
   "execution_count": 12,
   "metadata": {},
   "outputs": [
    {
     "data": {
      "text/html": [
       "<div>\n",
       "<style scoped>\n",
       "    .dataframe tbody tr th:only-of-type {\n",
       "        vertical-align: middle;\n",
       "    }\n",
       "\n",
       "    .dataframe tbody tr th {\n",
       "        vertical-align: top;\n",
       "    }\n",
       "\n",
       "    .dataframe thead th {\n",
       "        text-align: right;\n",
       "    }\n",
       "</style>\n",
       "<table border=\"1\" class=\"dataframe\">\n",
       "  <thead>\n",
       "    <tr style=\"text-align: right;\">\n",
       "      <th></th>\n",
       "      <th>City</th>\n",
       "      <th>Cloudiness</th>\n",
       "      <th>Country</th>\n",
       "      <th>Date</th>\n",
       "      <th>Humidity</th>\n",
       "      <th>Lat</th>\n",
       "      <th>Lng</th>\n",
       "      <th>Max Temp</th>\n",
       "      <th>Wind Speed</th>\n",
       "    </tr>\n",
       "  </thead>\n",
       "  <tbody>\n",
       "    <tr>\n",
       "      <th>5</th>\n",
       "      <td>mao</td>\n",
       "      <td>0</td>\n",
       "      <td>ES</td>\n",
       "      <td>1597885904</td>\n",
       "      <td>88</td>\n",
       "      <td>39.89</td>\n",
       "      <td>4.27</td>\n",
       "      <td>75.20</td>\n",
       "      <td>4.70</td>\n",
       "    </tr>\n",
       "    <tr>\n",
       "      <th>18</th>\n",
       "      <td>mabaruma</td>\n",
       "      <td>0</td>\n",
       "      <td>GY</td>\n",
       "      <td>1597885912</td>\n",
       "      <td>88</td>\n",
       "      <td>8.20</td>\n",
       "      <td>-59.78</td>\n",
       "      <td>76.44</td>\n",
       "      <td>2.64</td>\n",
       "    </tr>\n",
       "    <tr>\n",
       "      <th>44</th>\n",
       "      <td>carlyle</td>\n",
       "      <td>0</td>\n",
       "      <td>US</td>\n",
       "      <td>1597885927</td>\n",
       "      <td>63</td>\n",
       "      <td>38.61</td>\n",
       "      <td>-89.37</td>\n",
       "      <td>73.00</td>\n",
       "      <td>7.34</td>\n",
       "    </tr>\n",
       "    <tr>\n",
       "      <th>47</th>\n",
       "      <td>mackay</td>\n",
       "      <td>0</td>\n",
       "      <td>AU</td>\n",
       "      <td>1597885930</td>\n",
       "      <td>47</td>\n",
       "      <td>-21.15</td>\n",
       "      <td>149.20</td>\n",
       "      <td>78.80</td>\n",
       "      <td>5.82</td>\n",
       "    </tr>\n",
       "    <tr>\n",
       "      <th>65</th>\n",
       "      <td>san giovanni in fiore</td>\n",
       "      <td>0</td>\n",
       "      <td>IT</td>\n",
       "      <td>1597885937</td>\n",
       "      <td>73</td>\n",
       "      <td>39.26</td>\n",
       "      <td>16.70</td>\n",
       "      <td>73.40</td>\n",
       "      <td>3.36</td>\n",
       "    </tr>\n",
       "  </tbody>\n",
       "</table>\n",
       "</div>"
      ],
      "text/plain": [
       "                     City  Cloudiness Country        Date  Humidity    Lat  \\\n",
       "5                     mao           0      ES  1597885904        88  39.89   \n",
       "18               mabaruma           0      GY  1597885912        88   8.20   \n",
       "44                carlyle           0      US  1597885927        63  38.61   \n",
       "47                 mackay           0      AU  1597885930        47 -21.15   \n",
       "65  san giovanni in fiore           0      IT  1597885937        73  39.26   \n",
       "\n",
       "       Lng  Max Temp  Wind Speed  \n",
       "5     4.27     75.20        4.70  \n",
       "18  -59.78     76.44        2.64  \n",
       "44  -89.37     73.00        7.34  \n",
       "47  149.20     78.80        5.82  \n",
       "65   16.70     73.40        3.36  "
      ]
     },
     "execution_count": 12,
     "metadata": {},
     "output_type": "execute_result"
    }
   ],
   "source": [
    "# Narrow to temp between 70 and 80, wind speed less than 10, and zero cloudiness\n",
    "# Drop NaN as well\n",
    "drop_temp = df.loc[(df['Max Temp'] < 80) & (df['Max Temp'] > 70)]\n",
    "drop_wind = drop_temp.loc[drop_temp['Wind Speed'] < 10]\n",
    "zero_cloud = drop_wind.loc[drop_wind['Cloudiness'] == 0]\n",
    "narrow_df = zero_cloud.dropna()\n",
    "\n",
    "narrow_df.head()"
   ]
  },
  {
   "cell_type": "markdown",
   "metadata": {},
   "source": [
    "### Hotel Map\n",
    "* Store into variable named `hotel_df`.\n",
    "* Add a \"Hotel Name\" column to the DataFrame.\n",
    "* Set parameters to search for hotels with 5000 meters.\n",
    "* Hit the Google Places API for each city's coordinates.\n",
    "* Store the first Hotel result into the DataFrame.\n",
    "* Plot markers on top of the heatmap."
   ]
  },
  {
   "cell_type": "code",
   "execution_count": 56,
   "metadata": {},
   "outputs": [],
   "source": [
    "# Store into hotel_df\n",
    "hotel_df = narrow_df\n",
    "\n",
    "# Add hotel name column\n",
    "hotel_df['Hotel Name'] = ''\n",
    "\n",
    "# Set up params\n",
    "params = {\n",
    "    'radius': 5000,\n",
    "    'type': 'lodging',\n",
    "    'key': g_key\n",
    "}\n",
    "\n",
    "# base url\n",
    "base_url = \"https://maps.googleapis.com/maps/api/place/nearbysearch/json\"\n",
    "\n",
    "# Make dictionary to hold latitude and longitude data of each city\n",
    "# Used https://stackoverflow.com/questions/26716616/convert-a-pandas-dataframe-to-a-dictionary as reference\n",
    "hotel_df_slice = hotel_df[['City', 'Lat', 'Lng']]\n",
    "hotel_df_slice.set_index('City', drop = True, inplace = True)\n",
    "dictionary = hotel_df_slice.to_dict(orient = 'index')\n",
    "\n",
    "hotels = []\n",
    "\n",
    "# For each city in dictionary, find first hotel using Google Places API\n",
    "for row in dictionary:\n",
    "    \n",
    "    # Get latitude and longitude\n",
    "    lat = dictionary[row]['Lat']\n",
    "    long = dictionary[row]['Lng']\n",
    "\n",
    "    target_coordinates = str(lat) + ', ' + str(long)\n",
    "    \n",
    "    # Add these coords to params\n",
    "    params['location'] = target_coordinates\n",
    "    \n",
    "    # Run a request using params dictionary\n",
    "    response = requests.get(base_url, params=params)\n",
    "    response = response.json()\n",
    "    \n",
    "    # Get first hotel name and store in hotel list\n",
    "    try:\n",
    "        hotels.append(response['results'][0]['name'])\n",
    "    except:\n",
    "        pass"
   ]
  },
  {
   "cell_type": "code",
   "execution_count": 62,
   "metadata": {
    "scrolled": true
   },
   "outputs": [
    {
     "name": "stdout",
     "output_type": "stream",
     "text": [
      "['ARTIEM Capri', 'Centerstone Inn & Suites - Carlyle', 'International Lodge Motel', 'Casa Federico B&B', 'Floresta Amazonica Hotel', 'ARTIEM Capri', 'רגע בנחת', 'Dena Hotel', 'Pilões Palace Hotel', 'Park hotel', 'Valle Aridane', 'Areti Suites', 'Ikathouse', 'Belchior Palace Hotel', 'Provost Motor Inn', 'Hotel Mineiro Ltda', 'محل الشريف محمد العايب', 'Hacienda Barriche', 'Montes Altos', 'LE SAMANA', 'Il Veliero', 'فندق التوجان', 'Thank Inn Chain Hotel gansu wuwei liangzhou district xiguan middle road', 'هتل آپارتمان آرامیس', 'محطة التلفاز']\n"
     ]
    }
   ],
   "source": [
    "print(hotels)\n",
    "len(hotels)\n",
    "\n",
    "hotels.append('Dummy Value')"
   ]
  },
  {
   "cell_type": "code",
   "execution_count": 64,
   "metadata": {},
   "outputs": [
    {
     "data": {
      "text/html": [
       "<div>\n",
       "<style scoped>\n",
       "    .dataframe tbody tr th:only-of-type {\n",
       "        vertical-align: middle;\n",
       "    }\n",
       "\n",
       "    .dataframe tbody tr th {\n",
       "        vertical-align: top;\n",
       "    }\n",
       "\n",
       "    .dataframe thead th {\n",
       "        text-align: right;\n",
       "    }\n",
       "</style>\n",
       "<table border=\"1\" class=\"dataframe\">\n",
       "  <thead>\n",
       "    <tr style=\"text-align: right;\">\n",
       "      <th></th>\n",
       "      <th>City</th>\n",
       "      <th>Cloudiness</th>\n",
       "      <th>Country</th>\n",
       "      <th>Date</th>\n",
       "      <th>Humidity</th>\n",
       "      <th>Lat</th>\n",
       "      <th>Lng</th>\n",
       "      <th>Max Temp</th>\n",
       "      <th>Wind Speed</th>\n",
       "      <th>Hotel Name</th>\n",
       "    </tr>\n",
       "  </thead>\n",
       "  <tbody>\n",
       "    <tr>\n",
       "      <th>5</th>\n",
       "      <td>mao</td>\n",
       "      <td>0</td>\n",
       "      <td>ES</td>\n",
       "      <td>1597885904</td>\n",
       "      <td>88</td>\n",
       "      <td>39.89</td>\n",
       "      <td>4.27</td>\n",
       "      <td>75.20</td>\n",
       "      <td>4.70</td>\n",
       "      <td>ARTIEM Capri</td>\n",
       "    </tr>\n",
       "    <tr>\n",
       "      <th>18</th>\n",
       "      <td>mabaruma</td>\n",
       "      <td>0</td>\n",
       "      <td>GY</td>\n",
       "      <td>1597885912</td>\n",
       "      <td>88</td>\n",
       "      <td>8.20</td>\n",
       "      <td>-59.78</td>\n",
       "      <td>76.44</td>\n",
       "      <td>2.64</td>\n",
       "      <td>Centerstone Inn &amp; Suites - Carlyle</td>\n",
       "    </tr>\n",
       "    <tr>\n",
       "      <th>44</th>\n",
       "      <td>carlyle</td>\n",
       "      <td>0</td>\n",
       "      <td>US</td>\n",
       "      <td>1597885927</td>\n",
       "      <td>63</td>\n",
       "      <td>38.61</td>\n",
       "      <td>-89.37</td>\n",
       "      <td>73.00</td>\n",
       "      <td>7.34</td>\n",
       "      <td>International Lodge Motel</td>\n",
       "    </tr>\n",
       "    <tr>\n",
       "      <th>47</th>\n",
       "      <td>mackay</td>\n",
       "      <td>0</td>\n",
       "      <td>AU</td>\n",
       "      <td>1597885930</td>\n",
       "      <td>47</td>\n",
       "      <td>-21.15</td>\n",
       "      <td>149.20</td>\n",
       "      <td>78.80</td>\n",
       "      <td>5.82</td>\n",
       "      <td>Casa Federico B&amp;B</td>\n",
       "    </tr>\n",
       "    <tr>\n",
       "      <th>65</th>\n",
       "      <td>san giovanni in fiore</td>\n",
       "      <td>0</td>\n",
       "      <td>IT</td>\n",
       "      <td>1597885937</td>\n",
       "      <td>73</td>\n",
       "      <td>39.26</td>\n",
       "      <td>16.70</td>\n",
       "      <td>73.40</td>\n",
       "      <td>3.36</td>\n",
       "      <td>Floresta Amazonica Hotel</td>\n",
       "    </tr>\n",
       "  </tbody>\n",
       "</table>\n",
       "</div>"
      ],
      "text/plain": [
       "                     City  Cloudiness Country        Date  Humidity    Lat  \\\n",
       "5                     mao           0      ES  1597885904        88  39.89   \n",
       "18               mabaruma           0      GY  1597885912        88   8.20   \n",
       "44                carlyle           0      US  1597885927        63  38.61   \n",
       "47                 mackay           0      AU  1597885930        47 -21.15   \n",
       "65  san giovanni in fiore           0      IT  1597885937        73  39.26   \n",
       "\n",
       "       Lng  Max Temp  Wind Speed                          Hotel Name  \n",
       "5     4.27     75.20        4.70                        ARTIEM Capri  \n",
       "18  -59.78     76.44        2.64  Centerstone Inn & Suites - Carlyle  \n",
       "44  -89.37     73.00        7.34           International Lodge Motel  \n",
       "47  149.20     78.80        5.82                   Casa Federico B&B  \n",
       "65   16.70     73.40        3.36            Floresta Amazonica Hotel  "
      ]
     },
     "execution_count": 64,
     "metadata": {},
     "output_type": "execute_result"
    }
   ],
   "source": [
    "hotel_df['Hotel Name'] = hotels\n",
    "hotel_df.head()"
   ]
  },
  {
   "cell_type": "code",
   "execution_count": 66,
   "metadata": {},
   "outputs": [],
   "source": [
    "# NOTE: Do not change any of the code in this cell\n",
    "\n",
    "# Using the template add the hotel marks to the heatmap\n",
    "info_box_template = \"\"\"\n",
    "<dl>\n",
    "<dt>Name</dt><dd>{Hotel Name}</dd>\n",
    "<dt>City</dt><dd>{City}</dd>\n",
    "<dt>Country</dt><dd>{Country}</dd>\n",
    "</dl>\n",
    "\"\"\"\n",
    "# Store the DataFrame Row\n",
    "# NOTE: be sure to update with your DataFrame name\n",
    "hotel_info = [info_box_template.format(**row) for index, row in hotel_df.iterrows()]\n",
    "locations = hotel_df[[\"Lat\", \"Lng\"]]"
   ]
  },
  {
   "cell_type": "code",
   "execution_count": 67,
   "metadata": {},
   "outputs": [
    {
     "data": {
      "application/vnd.jupyter.widget-view+json": {
       "model_id": "1f97346aa6aa47dfb9aba097fc6ca8d6",
       "version_major": 2,
       "version_minor": 0
      },
      "text/plain": [
       "Figure(layout=FigureLayout(height='420px'))"
      ]
     },
     "metadata": {},
     "output_type": "display_data"
    }
   ],
   "source": [
    "# Add marker layer ontop of heat map\n",
    "marker_layer = gmaps.marker_layer(locations, info_box_content = hotel_info)\n",
    "\n",
    "fig.add_layer(marker_layer)\n",
    "\n",
    "# Display Map\n",
    "fig"
   ]
  },
  {
   "cell_type": "code",
   "execution_count": null,
   "metadata": {},
   "outputs": [],
   "source": []
  }
 ],
 "metadata": {
  "kernelspec": {
   "display_name": "PythonData",
   "language": "python",
   "name": "pythondata"
  },
  "language_info": {
   "codemirror_mode": {
    "name": "ipython",
    "version": 3
   },
   "file_extension": ".py",
   "mimetype": "text/x-python",
   "name": "python",
   "nbconvert_exporter": "python",
   "pygments_lexer": "ipython3",
   "version": "3.8.1"
  },
  "latex_envs": {
   "LaTeX_envs_menu_present": true,
   "autoclose": false,
   "autocomplete": true,
   "bibliofile": "biblio.bib",
   "cite_by": "apalike",
   "current_citInitial": 1,
   "eqLabelWithNumbers": true,
   "eqNumInitial": 1,
   "hotkeys": {
    "equation": "Ctrl-E",
    "itemize": "Ctrl-I"
   },
   "labels_anchors": false,
   "latex_user_defs": false,
   "report_style_numbering": false,
   "user_envs_cfg": false
  }
 },
 "nbformat": 4,
 "nbformat_minor": 2
}
